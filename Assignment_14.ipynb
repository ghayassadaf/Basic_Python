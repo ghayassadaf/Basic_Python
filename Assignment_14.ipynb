{
 "cells": [
  {
   "cell_type": "markdown",
   "metadata": {},
   "source": [
    "# 1. What does RGBA stand for?\n",
    "### Ans- RGBA is a format including 4 channels i.e Red, Green , Blue and Alpha, The First 3 channels denote colors of Red , Green and Blue and the last one 'Alpha ' decides the transparency or opaque level in colors made by blend of those 3 colors."
   ]
  },
  {
   "cell_type": "markdown",
   "metadata": {},
   "source": [
    "# 2. From the Pillow module, how do you get the RGBA value of any images?\n",
    "### Ans - Firstly the image need to be opened and get the object of the same \n",
    "### then there is a method ''convert\" to convert that image into it's RGB values through it's object.\n",
    "\n",
    "### such that :\n",
    "###  imagefile= open(''image file\")\n",
    "###  RGBA_values= imagefile.convert('RGBA')\n"
   ]
  },
  {
   "cell_type": "markdown",
   "metadata": {},
   "source": [
    "# 3. What is a box tuple, and how does it work?\n",
    "\n",
    "### Ans - Box tuple represents a rectangular region in the image consists of tuple of 4 integers as coordinates i.e known as left, top, right & bottom. here coordinates can be taken as particular pixels in the image.\n",
    "\n",
    "###  It is taken as arguments in method or features of PILLOW module.\n",
    "\n",
    "###   Suppose there is a Image of 9*9 pixels So it can be taken as 9  boxes  in the x direction and 9 boxes in the y direction. So Within this image of 9*9 pixels , if any rectangular space is to be marked which would be covering some pixels (i.e in x and y direction). So Marking those areas in four coordinates (i.e left, top, right and bottom) is called Box tuple and this way it works."
   ]
  },
  {
   "cell_type": "markdown",
   "metadata": {},
   "source": [
    "# 4. Use your image and load in notebook then, How can you find out the width and height of an Image object?"
   ]
  },
  {
   "cell_type": "code",
   "execution_count": 1,
   "metadata": {},
   "outputs": [
    {
     "name": "stdout",
     "output_type": "stream",
     "text": [
      "The width is 2238 and the height is 1488\n"
     ]
    }
   ],
   "source": [
    "# Ans -\n",
    "from PIL import Image\n",
    "img= Image.open('C:\\\\Users\\\\GHAYAS\\Desktop\\\\define_data.jpeg')\n",
    "width,height=img.size\n",
    "print('The width is {} and the height is {}'.format(width,height))"
   ]
  },
  {
   "cell_type": "markdown",
   "metadata": {},
   "source": [
    "# 5. What method would you call to get Image object for a 100×100 image, excluding the lower-lef quarter of it?"
   ]
  },
  {
   "cell_type": "code",
   "execution_count": 57,
   "metadata": {},
   "outputs": [],
   "source": [
    "# Ans -\n",
    "import numpy as np\n",
    "var=0\n",
    "new_wid=width/2\n",
    "new_height=height/2\n",
    "img= Image.open('C:\\\\Users\\\\GHAYAS\\Desktop\\\\define_data.jpeg').convert('RGB')\n",
    "img_array=np.array(img)\n",
    "img_array[int(new_height):int(height),0:int(new_wid)]=(0,0,0)\n",
    "new_img=Image.fromarray(img_array)\n",
    "new_img.show()\n"
   ]
  },
  {
   "cell_type": "markdown",
   "metadata": {},
   "source": [
    "# 6. After making changes to an Image object, how could you save it as an image file?\n",
    "\n",
    "### Ans - After making chnages to an Image object, It can be saved by ''save'' method with argument of 'filename' and \"format='png'or 'jpeg' or 'jpg'\" which is optional in argument. Format can taken by default form filename itself.\n",
    "\n",
    "### i.e Image.save('Filename.png') "
   ]
  },
  {
   "cell_type": "markdown",
   "metadata": {},
   "source": [
    "# 7. What module contains Pillow’s shape-drawing code?\n",
    "\n",
    "### Ans - 'ImageDraw' module contains pillow's shape drawing code.\n",
    "\n",
    "#### from PIL import image, ImageDraw\n"
   ]
  },
  {
   "cell_type": "markdown",
   "metadata": {},
   "source": [
    "# 8. Image objects do not have drawing methods. What kind of object does? How do you get this kind of object?\n",
    "\n",
    "### Ans - Object of ImageDraw can be obtained in below way:\n",
    "\n",
    "#### from PIL import image, ImageDraw\n",
    "###    img= Image.open(filename)\n",
    "###    draw=ImageDraw.Draw(img)"
   ]
  },
  {
   "cell_type": "markdown",
   "metadata": {},
   "source": [
    "# END"
   ]
  }
 ],
 "metadata": {
  "kernelspec": {
   "display_name": "Python 3",
   "language": "python",
   "name": "python3"
  },
  "language_info": {
   "codemirror_mode": {
    "name": "ipython",
    "version": 3
   },
   "file_extension": ".py",
   "mimetype": "text/x-python",
   "name": "python",
   "nbconvert_exporter": "python",
   "pygments_lexer": "ipython3",
   "version": "3.8.3"
  }
 },
 "nbformat": 4,
 "nbformat_minor": 4
}
