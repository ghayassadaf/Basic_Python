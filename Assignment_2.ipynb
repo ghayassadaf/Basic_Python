{
 "cells": [
  {
   "cell_type": "markdown",
   "metadata": {},
   "source": [
    "# 1.What are the two values of the Boolean data type? How do you write them?\n",
    "\n",
    "Ans - There are two values of Boolean data type - True and False\n",
    "True and Flase must have first letter in capital otherwise compiler will not recognise it as Boolean data type."
   ]
  },
  {
   "cell_type": "markdown",
   "metadata": {},
   "source": [
    "# 2. What are the three different types of Boolean operators?\n",
    "\n",
    "Ans - Boolean operators are - AND , OR & NOT"
   ]
  },
  {
   "cell_type": "markdown",
   "metadata": {},
   "source": [
    "# 3. Make a list of each Boolean operator&#39;s truth tables (i.e. every possible combination of Boolean\n",
    "values for the operator and what it evaluate ).\n",
    "\n"
   ]
  },
  {
   "cell_type": "code",
   "execution_count": 42,
   "metadata": {},
   "outputs": [
    {
     "name": "stdout",
     "output_type": "stream",
     "text": [
      "\n",
      "Tables for  AND  operator:\n",
      "True   and   True  - True\n",
      "True   and   False  - False\n",
      "False   and   True  - False\n",
      "False   and   False  - False\n",
      "\n",
      "Tables for  OR  operator:\n",
      "True   or   True  - True\n",
      "True   or   False  - True\n",
      "False   or   True  - True\n",
      "False   or   False  - False\n",
      "\n",
      "Tables for  NOT  operator:\n",
      "not   True  - False\n",
      "not   False  - True\n"
     ]
    }
   ],
   "source": [
    "# Ans-\n",
    "def Table(val):\n",
    "    print('\\nTables for ',val.upper(),' operator:')\n",
    "    if val.lower()=='and' or val.lower()=='or':\n",
    "        str='i '+val.lower()+' j'\n",
    "        list2=[True,False,True,False]\n",
    "        for i in [True,True,False,False]:\n",
    "            for j in list2:\n",
    "                print(i,' ',val,' ',j,' -',eval(str))\n",
    "                list2.pop(0)\n",
    "                break\n",
    "    elif val.lower()=='not':\n",
    "        str=val.lower()+' m'\n",
    "        for m in [True,False]:\n",
    "            print(val,' ',m,' -',eval(str))\n",
    "        \n",
    "Table('and') \n",
    "Table('or')\n",
    "Table('not')"
   ]
  },
  {
   "cell_type": "markdown",
   "metadata": {},
   "source": [
    "# 4. What are the values of the following expressions?\n",
    "(5 > 4) and (3 == 5)\n",
    "not (5 > 4)\n",
    "(5 > ((5 > 4) or (3 == 5)))\n",
    "(True and True) and (True == False)\n",
    "(not False) or (not True)"
   ]
  },
  {
   "cell_type": "code",
   "execution_count": 65,
   "metadata": {},
   "outputs": [
    {
     "name": "stdout",
     "output_type": "stream",
     "text": [
      "False\n",
      "False\n",
      "True\n",
      "False\n",
      "True\n"
     ]
    }
   ],
   "source": [
    "for i in [((5 > 4) and (3 == 5)),(not (5 > 4)),((5 > ((5 > 4) or (3 == 5)))),((True and True) and (True == False)),((not False) or (not True))]:\n",
    "          print(i)"
   ]
  },
  {
   "cell_type": "markdown",
   "metadata": {},
   "source": [
    "# 5. What are the six comparison operators?\n",
    "Ans -:\n",
    "    less than - '<'\n",
    "    less than or equal to - '<='\n",
    "    greater than - '>'\n",
    "    greater than or equal to - '>='\n",
    "    equal to - '='\n",
    "    not equal to - '!='."
   ]
  },
  {
   "cell_type": "markdown",
   "metadata": {},
   "source": [
    "# 6. How do you tell the difference between the equal to and assignment operators?Describe a\n",
    "   condition and when you would use one.\n",
    "   \n",
    " Ans - Assignment operator is used assign values to variable and Equal operator is used to compare the variable's value with          any value/variable's variable.\n",
    " \n",
    "    Use of assignment operator:\n",
    "    a=input()\n",
    "    # here 'a' variable is getting assigned the value from input() function.\n",
    "    \n",
    "    Use of Equal operator:\n",
    "    if a==5:\n",
    "        then print( 'a is 5' )\n",
    "    # here 'a' is being compared with a value to check the condition whether it's True or False.\n",
    "   "
   ]
  },
  {
   "cell_type": "code",
   "execution_count": 8,
   "metadata": {},
   "outputs": [
    {
     "name": "stdout",
     "output_type": "stream",
     "text": [
      "spam\n"
     ]
    }
   ],
   "source": [
    "# 7. Identify the three blocks in this code:\n",
    "spam = 0\n",
    "if spam == 10:\n",
    "    print('eggs') # Block 1 \n",
    "    if spam > 5:\n",
    "        print('bacon') # Block 2 within Block 1\n",
    "    else:\n",
    "        print('ham')   # Block 3 within Block 1\n",
    "    print('spam')   # Block 1\n",
    "print('spam')"
   ]
  },
  {
   "cell_type": "markdown",
   "metadata": {},
   "source": [
    "# 8. Write code that prints Hello if 1 is stored in spam, prints Howdy if 2 is stored in spam, and prints\n",
    "     Greetings! if anything else is stored in spam."
   ]
  },
  {
   "cell_type": "code",
   "execution_count": 11,
   "metadata": {},
   "outputs": [
    {
     "name": "stdout",
     "output_type": "stream",
     "text": [
      "Howdy!\n"
     ]
    }
   ],
   "source": [
    "#Ans-\n",
    "spam=2\n",
    "if spam==1:\n",
    "    print('Hello!')\n",
    "elif spam==2:\n",
    "    print('Howdy!')\n",
    "else:\n",
    "    print('Greetings!')\n",
    "        "
   ]
  },
  {
   "cell_type": "markdown",
   "metadata": {},
   "source": [
    "# 9.If your programme is stuck in an endless loop, what keys you’ll press?\n",
    "Ans- In general, It is Cntrl+C which raises the  KeyboardInterrupt exception."
   ]
  },
  {
   "cell_type": "markdown",
   "metadata": {},
   "source": [
    "# 10. How can you tell the difference between break and continue?\n",
    "\n",
    "Ans-\n",
    "\"Break command is used to come out of current loop i.e for,while etc\n",
    "where as \n",
    "\"Continue\" command is used to skip the current iteration and go for the next iteration in loop i.e be it for , while loop etc"
   ]
  },
  {
   "cell_type": "markdown",
   "metadata": {},
   "source": [
    "# 11. In a for loop, what is the difference between range(10), range(0, 10), and range(0, 10, 1)?\n",
    "Ans- range(10) is not given Start value and increment by what value but by default it is 0 and 1 ,\n",
    "     range(0,10) is given Start value 0 and not given an increment value but by default it is 1 and\n",
    "     range(0, 10, 1) has been given both start and increment value 0 and 1 which same as default values."
   ]
  },
  {
   "cell_type": "code",
   "execution_count": 12,
   "metadata": {},
   "outputs": [
    {
     "data": {
      "text/plain": [
       "True"
      ]
     },
     "execution_count": 12,
     "metadata": {},
     "output_type": "execute_result"
    }
   ],
   "source": [
    "range(10)==range(0,10)==range(0,10,1)"
   ]
  },
  {
   "cell_type": "markdown",
   "metadata": {},
   "source": [
    "# 12. Write a short program that prints the numbers 1 to 10 using a for loop. Then write an equivalent\n",
    "program that prints the numbers 1 to 10 using a while loop."
   ]
  },
  {
   "cell_type": "code",
   "execution_count": 14,
   "metadata": {},
   "outputs": [
    {
     "name": "stdout",
     "output_type": "stream",
     "text": [
      "1\n",
      "2\n",
      "3\n",
      "4\n",
      "5\n",
      "6\n",
      "7\n",
      "8\n",
      "9\n",
      "10\n"
     ]
    }
   ],
   "source": [
    "# Ans-\n",
    "for i in range(1,11):\n",
    "    print(i)"
   ]
  },
  {
   "cell_type": "code",
   "execution_count": 16,
   "metadata": {},
   "outputs": [
    {
     "name": "stdout",
     "output_type": "stream",
     "text": [
      "1\n",
      "2\n",
      "3\n",
      "4\n",
      "5\n",
      "6\n",
      "7\n",
      "8\n",
      "9\n",
      "10\n"
     ]
    }
   ],
   "source": [
    "i=1\n",
    "while i<11:\n",
    "    print(i)\n",
    "    i+=1"
   ]
  },
  {
   "cell_type": "markdown",
   "metadata": {},
   "source": [
    "# 13. If you had a function named bacon() inside a module named spam, how would you call it after\n",
    "importing spam?"
   ]
  },
  {
   "cell_type": "code",
   "execution_count": null,
   "metadata": {},
   "outputs": [],
   "source": [
    "# Ans-\n",
    "import spam \n",
    "spam.bacon()"
   ]
  },
  {
   "cell_type": "markdown",
   "metadata": {},
   "source": [
    "### END "
   ]
  },
  {
   "cell_type": "code",
   "execution_count": null,
   "metadata": {},
   "outputs": [],
   "source": []
  },
  {
   "cell_type": "code",
   "execution_count": null,
   "metadata": {},
   "outputs": [],
   "source": []
  },
  {
   "cell_type": "code",
   "execution_count": null,
   "metadata": {},
   "outputs": [],
   "source": []
  }
 ],
 "metadata": {
  "kernelspec": {
   "display_name": "Python 3",
   "language": "python",
   "name": "python3"
  },
  "language_info": {
   "codemirror_mode": {
    "name": "ipython",
    "version": 3
   },
   "file_extension": ".py",
   "mimetype": "text/x-python",
   "name": "python",
   "nbconvert_exporter": "python",
   "pygments_lexer": "ipython3",
   "version": "3.8.3"
  }
 },
 "nbformat": 4,
 "nbformat_minor": 4
}
