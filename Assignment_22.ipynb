{
 "cells": [
  {
   "cell_type": "code",
   "execution_count": 5,
   "metadata": {},
   "outputs": [
    {
     "name": "stdout",
     "output_type": "stream",
     "text": [
      "iNeuron\n",
      "\n",
      " 'X' is a Global Variable and when the user defined 'func()' is called, It goes to the func() \n",
      " and print global X variable's value.\n"
     ]
    }
   ],
   "source": [
    "# 1. What is the result of the code, and explain?\n",
    "\n",
    "X = 'iNeuron'\n",
    "def func():\n",
    "        print(X)\n",
    "\n",
    "func()\n",
    "print(\"\\n 'X' is a Global Variable and when the user defined 'func()' is called, It goes to the func() \\n and print global X variable's value.\" )"
   ]
  },
  {
   "cell_type": "code",
   "execution_count": 10,
   "metadata": {},
   "outputs": [
    {
     "name": "stdout",
     "output_type": "stream",
     "text": [
      "iNeuron\n",
      "\n",
      " When the user defined 'func()' is called, It goes to the func() \n",
      " and Set temporary 'X' variable's value to 'NI!' \n",
      " and When It reaches the last code 'print(X)', It prints The Global variable X's value.\n"
     ]
    }
   ],
   "source": [
    "# 2. What is the result of the code, and explain?\n",
    "\n",
    "X = 'iNeuron'\n",
    "def func():\n",
    "    X = 'NI!'\n",
    "\n",
    "func()\n",
    "print(X)\n",
    "\n",
    "print(\"\\n When the user defined 'func()' is called, It goes to the func() \\n and Set temporary 'X' variable's value to 'NI!' \\n and When It reaches the last code 'print(X)', It prints The Global variable X's value.\" )"
   ]
  },
  {
   "cell_type": "code",
   "execution_count": 14,
   "metadata": {},
   "outputs": [
    {
     "name": "stdout",
     "output_type": "stream",
     "text": [
      "NI!\n",
      "iNeuron\n",
      "\n",
      " When the user defined 'func()' is called, It goes to the func() and \n",
      " Set temporary 'X' variable's value to 'NI!' and print the same X's value \n",
      " and When It reaches the last code 'print(X)', It prints The Global variable X's value.\n"
     ]
    }
   ],
   "source": [
    "# 3. What does this code print, and why?\n",
    "\n",
    "X = 'iNeuron'\n",
    "def func():\n",
    "    X = 'NI!'\n",
    "    print(X)\n",
    "func()\n",
    "print(X)\n",
    "\n",
    "print(\"\\n When the user defined 'func()' is called, It goes to the func() and \\n Set temporary 'X' variable's value to 'NI!' and print the same X's value \\n and When It reaches the last code 'print(X)', It prints The Global variable X's value.\" )"
   ]
  },
  {
   "cell_type": "code",
   "execution_count": 15,
   "metadata": {},
   "outputs": [
    {
     "name": "stdout",
     "output_type": "stream",
     "text": [
      "NI!\n",
      "\n",
      " When the user defined 'func()' is called, It goes to the func() \n",
      " and Set global 'X' variable's value to 'NI!' \n",
      " and When It reaches the last code 'print(X)', It prints The Global variable X's value.\n"
     ]
    }
   ],
   "source": [
    "# 4. What does this code produce, and why?\n",
    "\n",
    "X = 'iNeuron'\n",
    "def func():\n",
    "    global X\n",
    "    X = 'NI!'\n",
    "    \n",
    "func()\n",
    "print(X)\n",
    "\n",
    "print(\"\\n When the user defined 'func()' is called, It goes to the func() \\n and Set global 'X' variable's value to 'NI!' \\n and When It reaches the last code 'print(X)', It prints The Global variable X's value.\" )"
   ]
  },
  {
   "cell_type": "code",
   "execution_count": 19,
   "metadata": {},
   "outputs": [
    {
     "name": "stdout",
     "output_type": "stream",
     "text": [
      "iNeuron\n",
      "\n",
      " When the user defined 'nested()' is called, It goes to the nested() and print global 'X' variable's value \n",
      " and When the user defined 'func()' is called, It goes to the func() \n",
      " and Set temporary 'X' variable's value to 'NI!'\n",
      " and When It reaches the last code 'X', It shows The Global variable X's value.\n"
     ]
    }
   ],
   "source": [
    "# 5. What about this code—what’s the output, and why?\n",
    "\n",
    "X = 'iNeuron'\n",
    "def func():\n",
    "    X = 'NI'\n",
    "def nested():\n",
    "    print(X)\n",
    "nested()\n",
    "\n",
    "func()\n",
    "X\n",
    "\n",
    "print(\"\\n When the user defined 'nested()' is called, It goes to the nested() and print global 'X' variable's value \\n and When the user defined 'func()' is called, It goes to the func() \\n and Set temporary 'X' variable's value to 'NI!'\\n and When It reaches the last code 'X', It shows The Global variable X's value.\" )"
   ]
  },
  {
   "cell_type": "code",
   "execution_count": 2,
   "metadata": {},
   "outputs": [
    {
     "ename": "SyntaxError",
     "evalue": "no binding for nonlocal 'X' found (<ipython-input-2-c69c831f839a>, line 6)",
     "output_type": "error",
     "traceback": [
      "\u001b[1;36m  File \u001b[1;32m\"<ipython-input-2-c69c831f839a>\"\u001b[1;36m, line \u001b[1;32m6\u001b[0m\n\u001b[1;33m    nonlocal X\u001b[0m\n\u001b[1;37m    ^\u001b[0m\n\u001b[1;31mSyntaxError\u001b[0m\u001b[1;31m:\u001b[0m no binding for nonlocal 'X' found\n"
     ]
    }
   ],
   "source": [
    "# 6. How about this code: what is its output in Python 3, and explain?\n",
    "\n",
    "def func():\n",
    "    X = 'NI'\n",
    "def nested():\n",
    "    nonlocal X\n",
    "    X = 'Spam'\n",
    "nested()\n",
    "print(X)\n",
    "\n",
    "func()"
   ]
  },
  {
   "cell_type": "code",
   "execution_count": 9,
   "metadata": {},
   "outputs": [
    {
     "name": "stdout",
     "output_type": "stream",
     "text": [
      "This code throws error at codeline 'nonlocal X' as This 'non local X' makes X (which must be delared in main function as global variable) usable in within the function block \n",
      " so that the declared variable in main code can be used in within the user defined func but \n",
      " Since 'X' variable which is not declared in main code before this defined func \n",
      " So It will throw error at the above mentioned codeline.\n"
     ]
    }
   ],
   "source": [
    "# Ans- \n",
    "print(\"This code throws error at codeline 'nonlocal X' as This 'non local X' makes X (which must be delared in main function as global variable) usable in within the function block \\n so that the declared variable in main code can be used in within the user defined func but \\n Since 'X' variable which is not declared in main code before this defined func \\n So It will throw error at the above mentioned codeline.\")"
   ]
  },
  {
   "cell_type": "markdown",
   "metadata": {},
   "source": [
    "# END"
   ]
  }
 ],
 "metadata": {
  "kernelspec": {
   "display_name": "Python 3",
   "language": "python",
   "name": "python3"
  }
 },
 "nbformat": 4,
 "nbformat_minor": 4
}
