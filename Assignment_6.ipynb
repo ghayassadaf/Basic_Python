{
 "cells": [
  {
   "cell_type": "markdown",
   "metadata": {},
   "source": [
    "# 1. What are escape characters, and how do you use them?"
   ]
  },
  {
   "cell_type": "code",
   "execution_count": 3,
   "metadata": {},
   "outputs": [
    {
     "ename": "SyntaxError",
     "evalue": "invalid syntax (<ipython-input-3-60ae9a4cd105>, line 5)",
     "output_type": "error",
     "traceback": [
      "\u001b[1;36m  File \u001b[1;32m\"<ipython-input-3-60ae9a4cd105>\"\u001b[1;36m, line \u001b[1;32m5\u001b[0m\n\u001b[1;33m    print('My name is 'xyz'')\u001b[0m\n\u001b[1;37m                       ^\u001b[0m\n\u001b[1;31mSyntaxError\u001b[0m\u001b[1;31m:\u001b[0m invalid syntax\n"
     ]
    }
   ],
   "source": [
    "# Ans- \n",
    "# Escpae character is backlash '\\' which is used to ignore the character _\n",
    "# (i.e which can't be used in string) which comes after Escape charcter.\n",
    "# for Example-\n",
    "print('My name is 'xyz'')"
   ]
  },
  {
   "cell_type": "code",
   "execution_count": 4,
   "metadata": {},
   "outputs": [
    {
     "name": "stdout",
     "output_type": "stream",
     "text": [
      "My name is 'xyz'\n"
     ]
    }
   ],
   "source": [
    "#So In order to allow single quote in string as character_\n",
    "#We need to use '\\'just before the charcter. \n",
    "print('My name is \\'xyz\\'')"
   ]
  },
  {
   "cell_type": "markdown",
   "metadata": {},
   "source": [
    "# 2. What do the escape characters n and t stand for?"
   ]
  },
  {
   "cell_type": "code",
   "execution_count": 6,
   "metadata": {},
   "outputs": [
    {
     "name": "stdout",
     "output_type": "stream",
     "text": [
      "A \n",
      "B \t c d\n"
     ]
    }
   ],
   "source": [
    "# Ans -\n",
    "# \\n stands for newline\n",
    "# \\t stands for tab space\n",
    "print('A \\nB \\t c d')"
   ]
  },
  {
   "cell_type": "markdown",
   "metadata": {},
   "source": [
    "# 3. What is the way to include backslash characters in a string?"
   ]
  },
  {
   "cell_type": "code",
   "execution_count": 8,
   "metadata": {},
   "outputs": [
    {
     "name": "stdout",
     "output_type": "stream",
     "text": [
      "My name is \\ xyz \\\n"
     ]
    }
   ],
   "source": [
    "# Ans - To use \\ in string . We need to use double \\\\ . The first backlash as escape character and second one as character only\n",
    "\n",
    "print('My name is \\\\ xyz \\\\')"
   ]
  },
  {
   "cell_type": "markdown",
   "metadata": {},
   "source": [
    "# 4. The string \"Howl's Moving Castle\" is a correct value. Why isn't the single quote character in the word Howl's not escaped a problem?"
   ]
  },
  {
   "cell_type": "code",
   "execution_count": 12,
   "metadata": {},
   "outputs": [
    {
     "data": {
      "text/plain": [
       "\"Howl's Moving Castle\""
      ]
     },
     "execution_count": 12,
     "metadata": {},
     "output_type": "execute_result"
    }
   ],
   "source": [
    "\"Howl's Moving Castle\"\n",
    "# Ans - It's fine because there are 2 double quotes to show the characters as string.\n",
    "# If it was Single quote instead of double quote then it would throe an syntax error"
   ]
  },
  {
   "cell_type": "code",
   "execution_count": 13,
   "metadata": {},
   "outputs": [
    {
     "ename": "SyntaxError",
     "evalue": "invalid syntax (<ipython-input-13-9f8220e0f738>, line 2)",
     "output_type": "error",
     "traceback": [
      "\u001b[1;36m  File \u001b[1;32m\"<ipython-input-13-9f8220e0f738>\"\u001b[1;36m, line \u001b[1;32m2\u001b[0m\n\u001b[1;33m    'Howl's Moving Castle'\u001b[0m\n\u001b[1;37m          ^\u001b[0m\n\u001b[1;31mSyntaxError\u001b[0m\u001b[1;31m:\u001b[0m invalid syntax\n"
     ]
    }
   ],
   "source": [
    "# example\n",
    "'Howl's Moving Castle'"
   ]
  },
  {
   "cell_type": "markdown",
   "metadata": {},
   "source": [
    "# 5. How do you write a string of newlines if you don&#39;t want to use the n character?"
   ]
  },
  {
   "cell_type": "code",
   "execution_count": 15,
   "metadata": {},
   "outputs": [
    {
     "name": "stdout",
     "output_type": "stream",
     "text": [
      "My name is \n",
      " XYZ\n"
     ]
    }
   ],
   "source": [
    "#Ans - By using '\\n' in string will automatically be interpreted in newline.\n",
    "print('My name is \\n XYZ')"
   ]
  },
  {
   "cell_type": "code",
   "execution_count": 19,
   "metadata": {},
   "outputs": [
    {
     "name": "stdout",
     "output_type": "stream",
     "text": [
      "'Hello,World!'[1] - output is  e\n",
      "'Hello,World!'[0:5] - output is  Hello\n",
      "'Hello,World!'[5:] - output is  ,World!\n",
      "'Hello,World!'[:3] - output is  Hel\n"
     ]
    }
   ],
   "source": [
    "#6. What are the values of the given expressions?\n",
    "print(\"'Hello,World!'[1] - output is \",'Hello,World!'[1])\n",
    "print(\"'Hello,World!'[0:5] - output is \",'Hello,World!'[0:5])\n",
    "print(\"'Hello,World!'[5:] - output is \",'Hello,World!'[5:])\n",
    "print(\"'Hello,World!'[:3] - output is \",'Hello,World!'[:3])"
   ]
  },
  {
   "cell_type": "code",
   "execution_count": 21,
   "metadata": {},
   "outputs": [
    {
     "name": "stdout",
     "output_type": "stream",
     "text": [
      "Object `expressions` not found.\n",
      "HELLO\n",
      "True\n",
      "hello\n"
     ]
    }
   ],
   "source": [
    "#7. What are the values of the following expressions?\n",
    "print('Hello'.upper())\n",
    "print('Hello'.upper().isupper())\n",
    "print('Hello'.upper().lower())"
   ]
  },
  {
   "cell_type": "code",
   "execution_count": 37,
   "metadata": {},
   "outputs": [
    {
     "name": "stdout",
     "output_type": "stream",
     "text": [
      "['Remember,', 'remember,', 'the', 'fifth', 'of', 'July.']\n",
      "There-can-only-one.\n"
     ]
    }
   ],
   "source": [
    "#8. What are the values of the following expressions?\n",
    "print('Remember, remember, the fifth of July.'.split())\n",
    "print('-'.join('There can only one.'.split()))"
   ]
  },
  {
   "cell_type": "code",
   "execution_count": 39,
   "metadata": {},
   "outputs": [
    {
     "name": "stdout",
     "output_type": "stream",
     "text": [
      "-------------Ineuron\n",
      "Ineuron-------------\n",
      "------Ineuron-------\n"
     ]
    }
   ],
   "source": [
    "# 9. What are the methods for right-justifying, left-justifying, and centering a string?\n",
    "\n",
    "# Right jutifying - To adjust the string towards right side in a space of some width\n",
    "print('Ineuron'.rjust(20,'-'))\n",
    "\n",
    "# left jutifying - To adjust the string towards left side in a space of some width \n",
    "print('Ineuron'.ljust(20,'-'))\n",
    "\n",
    "# Right jutifying - To adjust the string towards center side in a space of some width \n",
    "print('Ineuron'.center(20,'-'))"
   ]
  },
  {
   "cell_type": "code",
   "execution_count": 42,
   "metadata": {},
   "outputs": [
    {
     "data": {
      "text/plain": [
       "'ineuron'"
      ]
     },
     "execution_count": 42,
     "metadata": {},
     "output_type": "execute_result"
    }
   ],
   "source": [
    "# 10. What is the best way to remove whitespace characters from the start or end?\n",
    "# Ans- By using trim() method.\n",
    "'    ineuron   '.strip()"
   ]
  },
  {
   "cell_type": "markdown",
   "metadata": {},
   "source": [
    "# End"
   ]
  },
  {
   "cell_type": "code",
   "execution_count": null,
   "metadata": {},
   "outputs": [],
   "source": []
  },
  {
   "cell_type": "code",
   "execution_count": null,
   "metadata": {},
   "outputs": [],
   "source": []
  }
 ],
 "metadata": {
  "kernelspec": {
   "display_name": "Python 3",
   "language": "python",
   "name": "python3"
  },
  "language_info": {
   "codemirror_mode": {
    "name": "ipython",
    "version": 3
   },
   "file_extension": ".py",
   "mimetype": "text/x-python",
   "name": "python",
   "nbconvert_exporter": "python",
   "pygments_lexer": "ipython3",
   "version": "3.8.3"
  }
 },
 "nbformat": 4,
 "nbformat_minor": 4
}
