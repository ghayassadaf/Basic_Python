{
 "cells": [
  {
   "cell_type": "raw",
   "metadata": {},
   "source": [
    "1. In the below elements which of them are values or an expression? eg:- values can be\n",
    "integer or string and expressions will be mathematical operators.\n",
    "*\n",
    "'hello'\n",
    "-87.8\n",
    "-\n",
    "/\n",
    "+\n",
    "6\n"
   ]
  },
  {
   "cell_type": "markdown",
   "metadata": {},
   "source": [
    "Ans- * , -, /, + are mathematical operators and 'hello', -87.8, 6 are values "
   ]
  },
  {
   "cell_type": "raw",
   "metadata": {},
   "source": [
    "2. What is the difference between string and variable?\n",
    "\n",
    "Ans- String is an continuos array of characters i.e alphabets/numbers/signs and variables that hold values & gets them allocated memory i.e values may be string & integer/float/complex numbers"
   ]
  },
  {
   "cell_type": "raw",
   "metadata": {},
   "source": [
    "3. Describe three different data types.\n",
    "\n",
    "Ans- 1. integer - it's a data type for integer numbers\n",
    "2.String - It's an array to stores charcters. charcters may be anything under double/single quotes.\n",
    "3. Boolean- Boolean is a computer/mahine language which could 1 for true or 0 for False\n"
   ]
  },
  {
   "cell_type": "raw",
   "metadata": {},
   "source": [
    "4. What is an expression made up of? What do all expressions do?\n",
    "Ans - Expression is that which returns some values or evaluates to some value like any arithmatic computation happening.\n",
    "for example : b=a/10, here b=a/10 is statement but a/10 is expresions beacuse by passing a's value. division will happen and will return some value."
   ]
  },
  {
   "cell_type": "raw",
   "metadata": {},
   "source": [
    "5. This assignment statements, like spam = 10. What is the difference between an\n",
    "expression and a statement?\n",
    "Ans - for spam = 10 , It is a statement as It does not return any value or do any evaluation but if spam=c+10 the C+10 would be an expression and whole line of code would be statement."
   ]
  },
  {
   "cell_type": "raw",
   "metadata": {},
   "source": [
    "6. After running the following code, what does the variable bacon contain?\n",
    "bacon = 22\n",
    "bacon + 1\n",
    "\n",
    "Ans- in first line bacon variable stores the value - 22 and then \n",
    "in second line of code, 1 will be added in stored value of Bacon variable So, It will show output as 23."
   ]
  },
  {
   "cell_type": "raw",
   "metadata": {},
   "source": [
    "7. What should the values of the following two terms be?\n",
    "'spam'+'spamspam'\n",
    "'spam'*3\n",
    "Ans - BOth values would be same as both give result to 'spamspamspam'"
   ]
  },
  {
   "cell_type": "raw",
   "metadata": {},
   "source": [
    "8. Why is eggs a valid variable name while 100 is invalid?\n",
    "Ans - Variables can be started with string or _ but not with the integer or any sign"
   ]
  },
  {
   "cell_type": "raw",
   "metadata": {},
   "source": [
    "9. What three functions can be used to get the integer, floating-point number, or string\n",
    "version of a value?\n",
    "\n",
    "Ans- One type can be cast into another type using type casting method like:\n",
    "    1. float() - for converting integer to float or float numbers stored as string\n",
    "    2. int() - for converting float to  integer or integers stored as string\n",
    "    3.str() - for converting int/float into string\n"
   ]
  },
  {
   "cell_type": "raw",
   "metadata": {},
   "source": [
    "10. Why does this expression cause an error? How can you fix it?\n",
    "'I have eaten ' + 99 + ' burritos.'\n",
    "\n",
    "Ans- Yes It it will throw an Type error as This '+' sign only concatenates strings if any value is string among them.\n",
    "In order to remove error, we need to type cast integer '99' into string by using str().\n",
    "So output ill be:\n",
    "'I have eaten99burritos.'"
   ]
  },
  {
   "cell_type": "code",
   "execution_count": 9,
   "metadata": {},
   "outputs": [
    {
     "data": {
      "text/plain": [
       "'I have eaten 99 burritos.'"
      ]
     },
     "execution_count": 9,
     "metadata": {},
     "output_type": "execute_result"
    }
   ],
   "source": [
    "'I have eaten ' + str(99) + ' burritos.'"
   ]
  },
  {
   "cell_type": "code",
   "execution_count": null,
   "metadata": {},
   "outputs": [],
   "source": []
  }
 ],
 "metadata": {
  "kernelspec": {
   "display_name": "Python 3",
   "language": "python",
   "name": "python3"
  },
  "language_info": {
   "codemirror_mode": {
    "name": "ipython",
    "version": 3
   },
   "file_extension": ".py",
   "mimetype": "text/x-python",
   "name": "python",
   "nbconvert_exporter": "python",
   "pygments_lexer": "ipython3",
   "version": "3.8.3"
  }
 },
 "nbformat": 4,
 "nbformat_minor": 4
}
