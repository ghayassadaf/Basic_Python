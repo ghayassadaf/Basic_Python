{
 "cells": [
  {
   "cell_type": "markdown",
   "metadata": {},
   "source": [
    "# 1) . What is the difference between enclosing a list comprehension in square brackets and parentheses?"
   ]
  },
  {
   "cell_type": "markdown",
   "metadata": {},
   "source": [
    "# Ans\n",
    "### Enclosing in List comprehension in square brackets gives the output in list where as enclosing in parensthesis/curved brackets give putput in Tuple."
   ]
  },
  {
   "cell_type": "code",
   "execution_count": 27,
   "metadata": {},
   "outputs": [
    {
     "name": "stdout",
     "output_type": "stream",
     "text": [
      "Enclosed in square brackets give list (i.e iterator) as output - [0, 1, 2, 3, 4]\n",
      "Enclosed in parenthesis brackets give generator as output - <class 'generator'>\n"
     ]
    }
   ],
   "source": [
    "# for example\n",
    "\n",
    "print('Enclosed in square brackets give list (i.e iterator) as output -',[i for i in range(5)])\n",
    "a=(i for i in range(5))\n",
    "\n",
    "print('Enclosed in parenthesis brackets give generator as output -',type(a))"
   ]
  },
  {
   "cell_type": "markdown",
   "metadata": {},
   "source": [
    "# 2) What is the relationship between generators and iterators?"
   ]
  },
  {
   "cell_type": "markdown",
   "metadata": {},
   "source": [
    "# Ans\n",
    "\n",
    "### Iterator is an object to iterate over iterable objects like list , tuple , sets etc. It uses iter() to make iterable objects as iterator and next() to get the values one by one.\n",
    "### Generators are also iterators but there is 'yield' statement which reurns the result without exixting the defined function. It happens over the sequence to be iterated."
   ]
  },
  {
   "cell_type": "markdown",
   "metadata": {},
   "source": [
    "# 3) What are the signs that a function is a generator function?"
   ]
  },
  {
   "cell_type": "markdown",
   "metadata": {},
   "source": [
    "# Ans \n",
    "### When any function has yield statement in place of return statement. This shows that This is a Generator.\n",
    "\n",
    "### for example :"
   ]
  },
  {
   "cell_type": "code",
   "execution_count": 74,
   "metadata": {},
   "outputs": [],
   "source": [
    "def generate_numbers(n):\n",
    "    for i in range(n):\n",
    "        yield i\n",
    "a=generate_numbers(5)"
   ]
  },
  {
   "cell_type": "code",
   "execution_count": 77,
   "metadata": {},
   "outputs": [
    {
     "data": {
      "text/plain": [
       "2"
      ]
     },
     "execution_count": 77,
     "metadata": {},
     "output_type": "execute_result"
    }
   ],
   "source": [
    "next(a)"
   ]
  },
  {
   "cell_type": "markdown",
   "metadata": {},
   "source": [
    "# 4) What is the purpose of a yield statement?"
   ]
  },
  {
   "cell_type": "markdown",
   "metadata": {},
   "source": [
    "# Ans\n",
    "### 'Yield' Statement is used to return the result from user defined function without exiting the function. So it helps in making the function work as iterator which is then called Generator."
   ]
  },
  {
   "cell_type": "markdown",
   "metadata": {},
   "source": [
    "# 5) What is the relationship between map calls and list comprehensions? Make a comparison and contrast between the two."
   ]
  },
  {
   "cell_type": "markdown",
   "metadata": {},
   "source": [
    "# Ans \n",
    "### List comprehension does the operation within the Square bracket and is one line code  which returns list as output \n",
    "### where as \n",
    "### map takes the defined function and maps it to the input which is itself an iterable object i.e list,tuple,set etc and return the map object which later can be converted into list , tuple , set etc.\n",
    "### but map works faster than list comprehension because it has already defined function to map.\n",
    "\n",
    "## for example -\n"
   ]
  },
  {
   "cell_type": "code",
   "execution_count": 111,
   "metadata": {},
   "outputs": [
    {
     "name": "stdout",
     "output_type": "stream",
     "text": [
      "[0, 1, 4, 9, 16]\n"
     ]
    }
   ],
   "source": [
    "\n",
    "# list comprehension\n",
    "\n",
    "a=[i*i for i in range(5)]\n",
    "\n",
    "print(a)\n"
   ]
  },
  {
   "cell_type": "code",
   "execution_count": 110,
   "metadata": {},
   "outputs": [
    {
     "name": "stdout",
     "output_type": "stream",
     "text": [
      "[0, 1, 4, 9, 16]\n"
     ]
    }
   ],
   "source": [
    "# Map \n",
    "def sqr(n):\n",
    "    return n*n\n",
    "b=map(sqr,range(5))\n",
    "\n",
    "print(list(b))\n"
   ]
  },
  {
   "cell_type": "code",
   "execution_count": 138,
   "metadata": {},
   "outputs": [
    {
     "name": "stdout",
     "output_type": "stream",
     "text": [
      "[0, 1, 4, 9, 16]\n",
      "0.0002902\n"
     ]
    }
   ],
   "source": [
    "import timeit\n",
    "x=\"\"\"\n",
    "a=[i*i for i in range(5)]\n",
    "print(a)\n",
    "\"\"\"\n",
    "time_taken1=round(timeit.timeit(stmt=x,number =1),10)\n",
    "print(time_taken1)"
   ]
  },
  {
   "cell_type": "code",
   "execution_count": 139,
   "metadata": {},
   "outputs": [
    {
     "name": "stdout",
     "output_type": "stream",
     "text": [
      "[0, 1, 4, 9, 16]\n",
      "7.86e-05\n"
     ]
    }
   ],
   "source": [
    "y=\"\"\"\n",
    "def sqr(n):\n",
    "    return n*n\n",
    "b=map(sqr,range(5))\n",
    "print(list(b))\n",
    "\"\"\"\n",
    "time_taken2=round(timeit.timeit(stmt=y,number =1),10)\n",
    "print(time_taken2)"
   ]
  },
  {
   "cell_type": "code",
   "execution_count": 140,
   "metadata": {},
   "outputs": [
    {
     "name": "stdout",
     "output_type": "stream",
     "text": [
      "Map calling is faster than list comrehension\n"
     ]
    }
   ],
   "source": [
    "if time_taken2<time_taken1:\n",
    "    print('Map calling is faster than list comrehension')\n",
    "else:\n",
    "    print('list comrehension is faster than Map calling')"
   ]
  },
  {
   "cell_type": "markdown",
   "metadata": {},
   "source": [
    "# END"
   ]
  }
 ],
 "metadata": {
  "kernelspec": {
   "display_name": "Python 3",
   "language": "python",
   "name": "python3"
  },
  "language_info": {
   "codemirror_mode": {
    "name": "ipython",
    "version": 3
   },
   "file_extension": ".py",
   "mimetype": "text/x-python",
   "name": "python",
   "nbconvert_exporter": "python",
   "pygments_lexer": "ipython3",
   "version": "3.8.3"
  }
 },
 "nbformat": 4,
 "nbformat_minor": 4
}
