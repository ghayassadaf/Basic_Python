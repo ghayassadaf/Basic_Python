{
 "cells": [
  {
   "cell_type": "markdown",
   "metadata": {},
   "source": [
    "# 1. In what modes should the PdfFileReader() and PdfFileWriter() File objects will be opened?\n",
    "### Ans - PDFFilereader() objects willl be opened with the file opened in binary form with second agrument as 'rb' and PdfFileWriter() onjects will be opened with the binary form of opened file along with the 'wb' mode as second argument.\n",
    "### i.e pdffilereader file objects = .Pypdf2.PdfFileReader(open(filename,'rb'))\n",
    "### i.e pdffilereader file objects = .Pypdf2.PdfFileWriter(open(filename,'rb'))"
   ]
  },
  {
   "cell_type": "markdown",
   "metadata": {},
   "source": [
    "# 2. From a PdfFileReader object, how do you get a Page object for page 5?\n",
    "### Ans - By getting the object of PDFFilereader i.e filerdobj= Pypdf2.PdfFileReader(open(filename,'rb')). \n",
    "### That object 'filerdobj' will awake the method 'getpage(5)' to get the object of page 5\n",
    "### .i.e pageobj_5=filerdobj.getpage(5)."
   ]
  },
  {
   "cell_type": "markdown",
   "metadata": {},
   "source": [
    "# 3. What PdfFileReader variable stores the number of pages in the PDF document?\n",
    "### Ans - After creating the object of PdfFileReader(). This object will have attribute 'numpages'.\n",
    "### So, The no. of pages in pdf file will be stored through this attribute.\n",
    "### i.e pages=pdffilereaderobject.numpages"
   ]
  },
  {
   "cell_type": "markdown",
   "metadata": {},
   "source": [
    "# 4. If a PdfFileReader object’s PDF is encrypted with the password swordfish, what must you do before you can obtain Page objects from it?\n",
    "\n",
    "### Ans - If the file is encrypted ( which can be checked by PdfFileReader object’s PDF's attribute 'isencrypted' i.e PDF.isencrypted , It will return True or False) then The object PDF will have method  'Decrypt( 'password ') , password is given as argument (i.e password of pdf file) . This method will get the files opened and let further process of obtaining pages happen."
   ]
  },
  {
   "cell_type": "markdown",
   "metadata": {},
   "source": [
    "# 5. What methods do you use to rotate a page?\n",
    "\n",
    "### Ans - After getting the object of page of pdf file, there is a method  ' pageobj.rotateClockwise(Degrees as argument)' . This will rotate the current page through current page's object.\n",
    "### i.e - pageobj is an object of a page of file\n",
    "###       pageobj.rotateClockwise(90)"
   ]
  },
  {
   "cell_type": "markdown",
   "metadata": {},
   "source": [
    "# 6. What is the difference between a Run object and a Paragraph object?\n",
    "\n",
    "### Ans - A word document ( with the extension of .docx)  has three level of objects in it. First or high level is 'Document' it depicts the whole document.\n",
    "### second or middle level is 'paragraphs' depicts the pragraphs in a document. As 'Enter'is pressed there becomes new paragraph object.\n",
    "### Third or low level is 'Run' depicts the text or array of texts with the same style. As the style of text gets changed, there becomes another run object."
   ]
  },
  {
   "cell_type": "markdown",
   "metadata": {},
   "source": [
    "# 7. How do you obtain a list of Paragraph objects for a Document object that’s stored in a variable named 'doc'?\n",
    "\n",
    "### Ans - If Document object is 'doc' then list of paragraph objects would be :\n",
    "###           list_paragraph= doc.paragraphs"
   ]
  },
  {
   "cell_type": "markdown",
   "metadata": {},
   "source": [
    "# 8. What type of object has bold, underline, italic, strike, and outline variables?\n",
    "### Ans - The Run objects in a paragraph in a document has attributes of bold , underline , italic , strike etc ."
   ]
  },
  {
   "cell_type": "markdown",
   "metadata": {},
   "source": [
    "# 9. What is the difference between False, True, and None for the bold variable?\n",
    "\n",
    "### If any 'Run object' or 'Text or sentence of same style' in paragraphs needs to be changed it's style to Bold then  with the Run object , there is an attribute 'Bold' which can be set to TRUE (to make it bold) or false (to not make it bold or 'None' which results same as 'False' argument ."
   ]
  },
  {
   "cell_type": "markdown",
   "metadata": {},
   "source": [
    "# 10. How do you create a Document object for a new Word document?\n",
    "\n",
    "### Ans - After importing method of 'document' from 'docx' Module, The object for new document is created.\n",
    "### i.e import docx\n",
    "####      doc_obj = docx.document() "
   ]
  },
  {
   "cell_type": "markdown",
   "metadata": {},
   "source": [
    "# 11. How do you add a paragraph with the text \"Hello, there\" to a Document object stored in a variable named doc?\n",
    "\n",
    "### Ans - If Document object stored in variable named 'doc' then paragraph can be added in below way:\n",
    "###           doc= docx.document()\n",
    "###           doc.add_paragraph('Hello, there\", style='Normal')\n"
   ]
  },
  {
   "cell_type": "markdown",
   "metadata": {},
   "source": [
    "# 12. What integers represent the levels of headings available in Word documents?\n",
    "\n",
    "### Ans - The integers represent the levels are as follows:\n",
    "###           Level 0 makes the headline with underline below the text/s.\n",
    "###           Level 1 makes the main heading with less in size then Level 0.\n",
    "###           Level 2 makes the subheading  with less in size then Level 1.\n",
    "###           Level 3 makes the subheading  with less in size then Level 2.\n",
    "###           Level 4 makes the subheading  with less in size then Level 3."
   ]
  },
  {
   "cell_type": "markdown",
   "metadata": {},
   "source": [
    "# END"
   ]
  }
 ],
 "metadata": {
  "kernelspec": {
   "display_name": "Python 3",
   "language": "python",
   "name": "python3"
  },
  "language_info": {
   "codemirror_mode": {
    "name": "ipython",
    "version": 3
   },
   "file_extension": ".py",
   "mimetype": "text/x-python",
   "name": "python",
   "nbconvert_exporter": "python",
   "pygments_lexer": "ipython3",
   "version": "3.8.3"
  }
 },
 "nbformat": 4,
 "nbformat_minor": 4
}
