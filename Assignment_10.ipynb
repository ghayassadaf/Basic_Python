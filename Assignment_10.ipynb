{
 "cells": [
  {
   "cell_type": "markdown",
   "metadata": {},
   "source": [
    "# 1. How do you distinguish between shutil.copy() and shutil.copytree()?\n",
    "### shutil.copy() copies the file from source file to destination file but it does not copy metadata of base file.\n",
    "### if destination file has directory only then the file by the name of base file will be created and copied into.\n",
    "### shutil.copy(source,destination) returns the address of destination file.\n",
    "### and \n",
    "### shutil.copytree() copies the base directory's  files/folders to the destination directory with the copyfunction method in it (by default it is copy2()).\n",
    "###  shutil.copytree(source directory,destination directory)"
   ]
  },
  {
   "cell_type": "markdown",
   "metadata": {},
   "source": [
    "# 2. What function is used to rename files??\n",
    "### Ans- OS.rename() method is used to rename file name by giving address of source file and address of same ### but the change in file name whatever you want to rename into.\n",
    "### os.rename(source,destination) i.e os.rename('/a/b/c/test.txt','/a/b/c/test1.txt')  "
   ]
  },
  {
   "cell_type": "markdown",
   "metadata": {},
   "source": [
    "# 3. What is the difference between the delete functions in the send2trash and shutil modules?\n",
    "### Ans - Send2trash() has module send2trash() to delete the file and move it to recyclic bin but shutil() has method 'rmtree()', this is to delete the all files in specified directory.\n",
    "### os.remove() can be used to delete the file permanently."
   ]
  },
  {
   "cell_type": "markdown",
   "metadata": {},
   "source": [
    "# 4.ZipFile objects have a close() method just like File objects’ close() method. What ZipFile method is equivalent to File objects’ open() method?\n",
    "\n",
    "### Ans - After importing Zipfile, this Zipfile.Zipfile(file, mode) method will work as file object's open() method."
   ]
  },
  {
   "cell_type": "markdown",
   "metadata": {},
   "source": [
    "# 5. Create a programme that searches a folder tree for files with a certain file extension (such as .pdf or .jpg). Copy these files from whatever location they are in to a new folder."
   ]
  },
  {
   "cell_type": "code",
   "execution_count": 19,
   "metadata": {},
   "outputs": [
    {
     "name": "stdout",
     "output_type": "stream",
     "text": [
      "File image.jpg has been copied and saved in the selected folder E:/a/Newfolder-files/\n",
      "File ticket2.pdf has been copied and saved in the selected folder E:/a/Newfolder-files/\n"
     ]
    }
   ],
   "source": [
    "import os\n",
    "import shutil\n",
    "from tkinter import filedialog as f1\n",
    "import tkinter as tk\n",
    "tk.Tk().withdraw()\n",
    "\n",
    "i=0\n",
    "sel_dir=f1.askdirectory()\n",
    "\n",
    "if os.path.exists(sel_dir+'/Newfolder-files'):\n",
    "    shutil.rmtree(sel_dir+'/Newfolder-files')\n",
    "    \n",
    "for dirc,folder,files in os.walk(sel_dir):\n",
    "        if i==0:\n",
    "            rootdir=dirc\n",
    "            os.mkdir(sel_dir+'/Newfolder-files/')\n",
    "            for fi in files:\n",
    "                if fi.endswith('.pdf') or fi.endswith('.jpg'):\n",
    "                    loc=\"r'{}'\".format(dirc).replace('\\\\','/').replace(\"'\",\"\")[1::]+'/'\n",
    "                    shutil.copyfile(loc+fi,rootdir+'/Newfolder-files/'+fi)\n",
    "                    print('File {} has been copied and saved in the new folder in selected directory  {}'.format(fi,rootdir+'/Newfolder-files/'))\n",
    "        else:\n",
    "            for fi in files:\n",
    "                if fi.endswith('.pdf') or fi.endswith('.jpg'):\n",
    "                    loc=\"r'{}'\".format(dirc).replace('\\\\','/').replace(\"'\",\"\")[1::]+'/'\n",
    "                    shutil.copyfile(loc+fi,rootdir+'/Newfolder-files/'+fi)\n",
    "                    print('File {} has been copied and saved in the new folder in selected directory {}'.format(fi,rootdir+'/Newfolder-files/'))\n",
    "        \n",
    "        i+=1\n",
    "        \n",
    "\n"
   ]
  },
  {
   "cell_type": "markdown",
   "metadata": {},
   "source": [
    "# END"
   ]
  }
 ],
 "metadata": {
  "kernelspec": {
   "display_name": "Python 3",
   "language": "python",
   "name": "python3"
  },
  "language_info": {
   "codemirror_mode": {
    "name": "ipython",
    "version": 3
   },
   "file_extension": ".py",
   "mimetype": "text/x-python",
   "name": "python",
   "nbconvert_exporter": "python",
   "pygments_lexer": "ipython3",
   "version": "3.8.3"
  }
 },
 "nbformat": 4,
 "nbformat_minor": 4
}
