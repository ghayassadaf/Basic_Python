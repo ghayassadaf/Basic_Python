{
 "cells": [
  {
   "cell_type": "markdown",
   "metadata": {},
   "source": [
    "# 1. What advantages do Excel spreadsheets have over CSV spreadsheets?\n",
    "### Ans - EXcel Spreadsheet do have additional features to perform some operations on data and store data in         binary form. Excel does contain worksheets more than one in a workbook that is called Excel file. \n",
    "### where as \n",
    "###  CSV is comma separated values' file. So It is good in storing data as it is and hold in less memory compared to Excel but It doe snot have any features to be operated on data."
   ]
  },
  {
   "cell_type": "markdown",
   "metadata": {},
   "source": [
    "# 2.What do you pass to csv.reader() and csv.writer() to create reader and writer objects?\n",
    "### Ans- The file objects of the CSV file is passed as argument ( delimeter is by default comma ) to create reader and writer objects.\n",
    "### For examples:\n",
    "###   file_object_read =open(Filename or path,'r')\n",
    "###  csv_r = csv.reader(file_object_read)\n",
    "###  file_object_write =open(Filename or path,'w') \n",
    "###  csv_w = csv.writer(file_object_write)"
   ]
  },
  {
   "cell_type": "markdown",
   "metadata": {},
   "source": [
    "# 3. What modes do File objects for reader and writer objects need to be opened in?\n",
    "\n",
    "### Ans - The file objects need to be opened in read and write mode.\n",
    "### For examples:\n",
    "### file_object_read =open(Filename or path,'r')\n",
    "\n",
    "### file_object_write =open(Filename or path,'w')\n",
    "\n"
   ]
  },
  {
   "cell_type": "markdown",
   "metadata": {},
   "source": [
    "# 4. What method takes a list argument and writes it to a CSV file?\n",
    "\n",
    "### Ans- The method are as follows:\n",
    "### 1. write_object.writerow(list)\n",
    "### 2.  write_object.writerows(list)\n",
    "### 3.  write_object.writeheader(list)"
   ]
  },
  {
   "cell_type": "markdown",
   "metadata": {},
   "source": [
    "# 5. What do the keyword arguments delimiter and line terminator do?\n",
    "### Ans - It is used when the values have any delimiter in between like , ; etc So It is there to recognise which separates the words/values in a line,\n",
    "### and \n",
    "###  line terminator is to identify that by what separator , every new ROW can be identified.\n",
    "\n",
    "### Data in plain text as examples:\n",
    "###   a,b,c,d\n",
    "\n",
    "###   e,f,g,h\n",
    "\n",
    "###   i,j,k,l\n",
    "\n",
    "### There the delimeter is ',' and lineterminator is '\\n\\n'"
   ]
  },
  {
   "cell_type": "markdown",
   "metadata": {},
   "source": [
    "# 6. What function takes a string of JSON data and returns a Python data structure?\n",
    "### Ans - Load() and  loads() method returns jason staring into python data structure."
   ]
  },
  {
   "cell_type": "markdown",
   "metadata": {},
   "source": [
    "# 7. What function takes a Python data structure and returns a string of JSON data?\n",
    "### Ans - dump() and dumpss() method returns jason staring into python data structure."
   ]
  },
  {
   "cell_type": "code",
   "execution_count": 16,
   "metadata": {},
   "outputs": [
    {
     "name": "stdout",
     "output_type": "stream",
     "text": [
      "Converted Python String into jason Structure - \"My name is xyz\"\n",
      "Converted json String into python Structure - My name is xyz\n"
     ]
    }
   ],
   "source": [
    "import json\n",
    "var = \"My name is xyz\"\n",
    "jason=json.dumps(var)\n",
    "print('Converted Python String into jason Structure -',jason)\n",
    "json.loads(jason)\n",
    "print('Converted json String into python Structure -',json.loads(jason))"
   ]
  },
  {
   "cell_type": "markdown",
   "metadata": {},
   "source": [
    "# END"
   ]
  }
 ],
 "metadata": {
  "kernelspec": {
   "display_name": "Python 3",
   "language": "python",
   "name": "python3"
  },
  "language_info": {
   "codemirror_mode": {
    "name": "ipython",
    "version": 3
   },
   "file_extension": ".py",
   "mimetype": "text/x-python",
   "name": "python",
   "nbconvert_exporter": "python",
   "pygments_lexer": "ipython3",
   "version": "3.8.3"
  }
 },
 "nbformat": 4,
 "nbformat_minor": 4
}
