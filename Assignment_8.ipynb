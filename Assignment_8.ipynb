{
 "cells": [
  {
   "cell_type": "markdown",
   "metadata": {},
   "source": [
    "# 1. Is the Python Standard Library included with PyInputPlus?\n",
    "\n",
    "### Ans - Pyhton standard library does not contain PyinputPlus along.\n",
    "###          It has to be installed separately by using command i.e Pip install PyInputplus"
   ]
  },
  {
   "cell_type": "markdown",
   "metadata": {},
   "source": [
    "# 2. Why is PyInputPlus commonly imported with import pyinputplus as pypi?\n",
    "\n",
    "### Ans - PuinputPlus is commonly imported as pypi because to use that module in short name  which makes    ###          easier to use that module with its methods in script."
   ]
  },
  {
   "cell_type": "markdown",
   "metadata": {},
   "source": [
    "# 3. How do you distinguish between inputInt() and inputFloat()?\n",
    "\n",
    "### Ans- inputint() accepts non decimal number only and returns the same \n",
    "###  however inpputfloat() accepts non decimal and decimal number both but returns non decimal number as decimal number."
   ]
  },
  {
   "cell_type": "code",
   "execution_count": 1,
   "metadata": {},
   "outputs": [
    {
     "name": "stdout",
     "output_type": "stream",
     "text": [
      "4\n",
      "4\n",
      "Integer input - 4 \n",
      " Float input -  4.0\n"
     ]
    }
   ],
   "source": [
    "import pyinputplus as pypi\n",
    "print('Integer input -',pypi.inputInt(),\"\\n Float input - \",pypi.inputFloat())\n"
   ]
  },
  {
   "cell_type": "markdown",
   "metadata": {},
   "source": [
    "# 4. Using PyInputPlus, how do you ensure that the user enters a whole number between 0 and 99?\n",
    "\n",
    "### Ans - By using validation of lessthan anf greaterthan in INPUTINT()"
   ]
  },
  {
   "cell_type": "code",
   "execution_count": 8,
   "metadata": {},
   "outputs": [
    {
     "name": "stdout",
     "output_type": "stream",
     "text": [
      "Enter number between 0 and 99123\n",
      "Number must be less than 99.\n",
      "Enter number between 0 and 990\n",
      "Number must be greater than 0.\n",
      "Enter number between 0 and 992\n"
     ]
    },
    {
     "data": {
      "text/plain": [
       "2"
      ]
     },
     "execution_count": 8,
     "metadata": {},
     "output_type": "execute_result"
    }
   ],
   "source": [
    "pypi.inputInt(prompt='Enter number between 0 and 99',lessThan=99,greaterThan=0)"
   ]
  },
  {
   "cell_type": "markdown",
   "metadata": {},
   "source": [
    "# 5. What is transferred to the keyword arguments allowRegexes and blockRegexes?\n",
    "\n",
    "### Ans- both methods do get regular expression as pattern in argument's value. and To use any one of them we\n",
    "###    need to use both altogether to the validation work.\n",
    "###    if we use any of them then validation will not work properly as it needs to known that what to block and at ###    the same time what to allow."
   ]
  },
  {
   "cell_type": "code",
   "execution_count": 5,
   "metadata": {},
   "outputs": [
    {
     "name": "stdout",
     "output_type": "stream",
     "text": [
      "Enter phone number?123\n",
      "bad escape (end of pattern) at position 0\n",
      "Enter phone number?123-123-1234\n",
      "Your phone is 123-123-1234\n"
     ]
    }
   ],
   "source": [
    "phone = pypi.inputNum(prompt='Enter phone number?',  allowRegexes=[r'\\d{3}-\\d{3}-\\d{4}', r'None'],blockRegexes=r'\\d+')\n",
    "print('Your phone is', phone)"
   ]
  },
  {
   "cell_type": "markdown",
   "metadata": {},
   "source": [
    "# 6. If a blank input is entered three times, what does inputStr(limit=3) do?\n",
    "### Ans - If blank values are input more than 3 times then it will throw error - RetryLimitException."
   ]
  },
  {
   "cell_type": "markdown",
   "metadata": {},
   "source": [
    "# 7. If blank input is entered three times, what does inputStr(limit=3, default='hello') do?\n",
    "### Ans- It will not throw error but use default arguments' value as input. "
   ]
  },
  {
   "cell_type": "code",
   "execution_count": 6,
   "metadata": {},
   "outputs": [
    {
     "name": "stdout",
     "output_type": "stream",
     "text": [
      "\n",
      "Blank values are not allowed.\n",
      "\n",
      "Blank values are not allowed.\n",
      "\n",
      "Blank values are not allowed.\n"
     ]
    },
    {
     "data": {
      "text/plain": [
       "'hello'"
      ]
     },
     "execution_count": 6,
     "metadata": {},
     "output_type": "execute_result"
    }
   ],
   "source": [
    "pypi.inputStr(limit=3, default='hello')"
   ]
  },
  {
   "cell_type": "markdown",
   "metadata": {},
   "source": [
    "# END"
   ]
  }
 ],
 "metadata": {
  "kernelspec": {
   "display_name": "Python 3",
   "language": "python",
   "name": "python3"
  },
  "language_info": {
   "codemirror_mode": {
    "name": "ipython",
    "version": 3
   },
   "file_extension": ".py",
   "mimetype": "text/x-python",
   "name": "python",
   "nbconvert_exporter": "python",
   "pygments_lexer": "ipython3",
   "version": "3.8.3"
  }
 },
 "nbformat": 4,
 "nbformat_minor": 4
}
