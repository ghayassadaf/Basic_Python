{
 "cells": [
  {
   "cell_type": "markdown",
   "metadata": {},
   "source": [
    "# 1. Why are functions advantageous to have in your programs?\n",
    "\n",
    "Ans- The Usage of functions in code makes code:\n",
    "     1. efficient due to reusability of same block of code.\n",
    "     2. it breaks down the longer prograns into short components\n",
    "     3. makes the code very easy to interpret or understand."
   ]
  },
  {
   "cell_type": "markdown",
   "metadata": {},
   "source": [
    "# 2. When does the code in a function run: when it's specified or when it's called?\n",
    "\n",
    "Ans - The function is created with a block of code to run specific task. and then it's is called/specified by just mentioning the func name with open and close bracket holding some agruments or parameter if it's defined. i.e \n",
    "  def func(): -- Defining user defined function \n",
    "      print('func called\")\n",
    "  \n",
    "  func() -- calling above defined function"
   ]
  },
  {
   "cell_type": "markdown",
   "metadata": {},
   "source": [
    "# 3. What statement creates a function?\n",
    "\n",
    "Ans - 'def' statement creates a function with the ending sign ':'"
   ]
  },
  {
   "cell_type": "markdown",
   "metadata": {},
   "source": [
    "# 4. What is the difference between a function and a function call?\n",
    "\n",
    "Ans - Function is created by a func object thats assign to a given name which contains a block of code to run particular task and Function call is calling the function in mail code to perform that particular task for which the function's been created."
   ]
  },
  {
   "cell_type": "markdown",
   "metadata": {},
   "source": [
    "# 5. How many global scopes are there in a Python program? How many local scopes?\n",
    "Ans -  There are 3 copes in Pyhton:\n",
    "        1. global - any declared variable can be used any where in the main program code.\n",
    "        2. local - any variable declared in a function can only be used in the function's block of code.\n",
    "        2)a. nonlocal or enclosing scope - any variable declared in a function block can be used in other defined function in                the same function's block i.e nested function.\n",
    "        3. Built-in - any name/variable that has built in function in python's libarary module i.e from math import pi"
   ]
  },
  {
   "cell_type": "markdown",
   "metadata": {},
   "source": [
    "# 6. What happens to variables in a local scope when the function call returns?\n",
    "Ans - When the function finally exceuted and returns then the local variable gets detroyed."
   ]
  },
  {
   "cell_type": "markdown",
   "metadata": {},
   "source": [
    "# 7. What is the concept of a return value? Is it possible to have a return value in an expression?\n",
    "\n",
    "Ans - return value is the value when function gets fully executed, it returns a value afterwards, in the main code or script.\n",
    "      Yes, It is possible to have a return value in an expression doing any arithmatic operation or calculation etc  "
   ]
  },
  {
   "cell_type": "code",
   "execution_count": 4,
   "metadata": {},
   "outputs": [
    {
     "name": "stdout",
     "output_type": "stream",
     "text": [
      "11\n"
     ]
    }
   ],
   "source": [
    "def sum(a,b):\n",
    "    return (a+b)\n",
    "c=sum(2,3)+6\n",
    "print(c)"
   ]
  },
  {
   "cell_type": "markdown",
   "metadata": {},
   "source": [
    "# 8. If a function does not have a return statement, what is the return value of a call to that function?\n",
    "Ans - It has return of nonetype So it just performs according to code written in the function's block.It does not return anything."
   ]
  },
  {
   "cell_type": "code",
   "execution_count": 11,
   "metadata": {},
   "outputs": [
    {
     "name": "stdout",
     "output_type": "stream",
     "text": [
      "Hi Ineuron\n"
     ]
    }
   ],
   "source": [
    "#example-\n",
    "def name(a):\n",
    "    print(f'Hi {a}')\n",
    "name('Ineuron')"
   ]
  },
  {
   "cell_type": "markdown",
   "metadata": {},
   "source": [
    "# 9. How do you make a function variable refer to the global variable?\n",
    " Ans - By defining the local varibale as global and then it can be used out of the block or in main script as global variable"
   ]
  },
  {
   "cell_type": "code",
   "execution_count": 16,
   "metadata": {},
   "outputs": [
    {
     "name": "stdout",
     "output_type": "stream",
     "text": [
      "4\n"
     ]
    }
   ],
   "source": [
    "def mul(a):\n",
    "    global d\n",
    "    d=4\n",
    "    return(a*c)\n",
    "mul(4)\n",
    "print(d)"
   ]
  },
  {
   "cell_type": "markdown",
   "metadata": {},
   "source": [
    "# 10. What is the data type of None?\n",
    "Ans- The data type of None is Nonetype. It poins out that the following object/variable has no value at all."
   ]
  },
  {
   "cell_type": "markdown",
   "metadata": {},
   "source": [
    "# 11. What does the sentence import areallyourpetsnamederic do?\n",
    "Ans- It will import the follwing named module in python environment\n",
    " i.e import areallyourpetsnamederic"
   ]
  },
  {
   "cell_type": "markdown",
   "metadata": {},
   "source": [
    "# 12. If you had a bacon() feature in a spam module, what would you call it after importing spam?"
   ]
  },
  {
   "cell_type": "code",
   "execution_count": null,
   "metadata": {},
   "outputs": [],
   "source": [
    "#Ans - the following feature/function will be called like belwo:\n",
    "import scam\n",
    "scam.bacon()"
   ]
  },
  {
   "cell_type": "markdown",
   "metadata": {},
   "source": [
    "# 13. What can you do to save a programme from crashing if it encounters an error?\n",
    "Ans- By using Errorhandling concept to do away from the error occurence,\n",
    "this will stop exceuting the code which causing error and notify about the error type."
   ]
  },
  {
   "cell_type": "markdown",
   "metadata": {},
   "source": [
    "# 14. What is the purpose of the try clause? What is the purpose of the except clause?\n",
    "\n",
    "Ans - try  clause - It will check the block of code and if it throws any error then It will go to the except clause to run it's block of code.\n",
    "using try and except clause, The code would be more efficient and do te handling of error if it occurs."
   ]
  },
  {
   "cell_type": "markdown",
   "metadata": {},
   "source": [
    "# END"
   ]
  },
  {
   "cell_type": "code",
   "execution_count": null,
   "metadata": {},
   "outputs": [],
   "source": []
  }
 ],
 "metadata": {
  "kernelspec": {
   "display_name": "Python 3",
   "language": "python",
   "name": "python3"
  },
  "language_info": {
   "codemirror_mode": {
    "name": "ipython",
    "version": 3
   },
   "file_extension": ".py",
   "mimetype": "text/x-python",
   "name": "python",
   "nbconvert_exporter": "python",
   "pygments_lexer": "ipython3",
   "version": "3.8.3"
  }
 },
 "nbformat": 4,
 "nbformat_minor": 4
}
