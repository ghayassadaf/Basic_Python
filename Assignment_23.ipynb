{
 "cells": [
  {
   "cell_type": "code",
   "execution_count": 4,
   "metadata": {},
   "outputs": [
    {
     "name": "stdout",
     "output_type": "stream",
     "text": [
      "1 2 8\n",
      "The result would be 1,2,8 because a is non-default argument so it will take values as input in arguments acc to its position \n",
      "      and b & c are default argument so If c is not given any input as per it's position then it will have it's default value\n"
     ]
    }
   ],
   "source": [
    "# 1. What is the result of the code, and why?\n",
    "def func(a, b=6, c=8):\n",
    "    print(a, b, c)\n",
    "func(1, 2)\n",
    "print(\"\"\"The result would be 1,2,8 because a is non-default argument so it will take values as input in arguments acc to its position \n",
    "      and b & c are default argument so If c is not given any input as per it's position then it will have it's default value\"\"\")"
   ]
  },
  {
   "cell_type": "code",
   "execution_count": 10,
   "metadata": {},
   "outputs": [
    {
     "name": "stdout",
     "output_type": "stream",
     "text": [
      "1 2 3\n",
      "The result would be 1,2,3 because a & b are non-default arguments so it will take values as input in arguments acc to its position but b&c's values are given as keyword arguments So they have taken their values accordingly but shown in output as per positions given in return of the function\n"
     ]
    }
   ],
   "source": [
    "# 2. What is the result of this code, and why?\n",
    "def func(a, b, c=5):\n",
    "    print(a, b, c)\n",
    "func(1, c=3, b=2)\n",
    "\n",
    "print(\"\"\"The result would be 1,2,3 because a & b are non-default arguments so it will take values as input in arguments acc to its position but b&c's values are given as keyword arguments So they have taken their values accordingly but shown in output as per positions given in return of the function\"\"\")"
   ]
  },
  {
   "cell_type": "code",
   "execution_count": 12,
   "metadata": {},
   "outputs": [
    {
     "name": "stdout",
     "output_type": "stream",
     "text": [
      "1 (2, 3)\n",
      "The above output is because of the argument's position in defined function as the first argument is 'a' and the next is arbitary argumnet which will take input in series of values i.e int, string, float etc \n"
     ]
    }
   ],
   "source": [
    "# 3. How about this code: what is its result, and why?\n",
    "def func(a, *pargs):\n",
    "    print(a, pargs)\n",
    "func(1, 2, 3)\n",
    "print(\"\"\"The above output is because of the argument's position in defined function as the first argument is 'a' and the next is arbitary argumnet which will take input in series of values i.e int, string, float etc \"\"\")"
   ]
  },
  {
   "cell_type": "code",
   "execution_count": 16,
   "metadata": {},
   "outputs": [
    {
     "name": "stdout",
     "output_type": "stream",
     "text": [
      "1 {'c': 3, 'b': 2}\n",
      "The above output is because of the argument's position in defined function as the first argument is 'a' and the next is arbitary keyword argumnent which will take input in series of key-value pair and will be shown as dictionary in return \n"
     ]
    }
   ],
   "source": [
    "#4. What does this code print, and why?\n",
    "def func(a, **kargs):\n",
    "    print(a, kargs)\n",
    "func(a=1, c=3, b=2)\n",
    "print(\"\"\"The above output is because of the argument's position in defined function as the first argument is 'a' and the next is arbitary keyword argumnent which will take input in series of key-value pair and will be shown as dictionary in return \"\"\")"
   ]
  },
  {
   "cell_type": "code",
   "execution_count": 22,
   "metadata": {},
   "outputs": [
    {
     "name": "stdout",
     "output_type": "stream",
     "text": [
      "1 5 6 5\n",
      "The above output is because of the argument's position in defined function as the first argument is 'a' and the next input is given as  arbitary positional argumnent which will take input for the further postional argument be it default or non default\n"
     ]
    }
   ],
   "source": [
    "# 5. What gets printed by this, and explain?\n",
    "def func(a, b, c=8, d=5): \n",
    "    print(a, b, c, d)\n",
    "func(1, *(5,6))\n",
    "print(\"\"\"The above output is because of the argument's position in defined function as the first argument is 'a' and the next input is given as  arbitary positional argumnent which will take input for the further postional argument be it default or non default\"\"\")"
   ]
  },
  {
   "cell_type": "code",
   "execution_count": 30,
   "metadata": {},
   "outputs": [
    {
     "name": "stdout",
     "output_type": "stream",
     "text": [
      "when variables are passed to the function then a reference is created to the object of its values Since 'l' has integer as it's value So a number is immutable then any change in passed values will reference to new created variable for the chnaged value but for the other argumnet which is list and dictionary these are mutable So there chages will reflect in orginal values\n"
     ]
    }
   ],
   "source": [
    "# 6. what is the result of this, and explain?\n",
    "def func(a, b, c): \n",
    "    a = 2\n",
    "    b[0] = 'x'\n",
    "    c['a'] = 'y'\n",
    "l=1\n",
    "m=[1]\n",
    "n={'a':0}\n",
    "func(l, m, n)\n",
    "l,m,n\n",
    "\n",
    "print(\"\"\"when variables are passed to the function then a reference is created to the object of its values Since 'l' has integer as it's value So a number is immutable then any change in passed values will reference to new created variable for the chnaged value but for the other argumnet which is list and dictionary these are mutable So there chages will reflect in orginal values\"\"\")"
   ]
  },
  {
   "cell_type": "markdown",
   "metadata": {},
   "source": [
    "# END"
   ]
  }
 ],
 "metadata": {
  "kernelspec": {
   "display_name": "Python 3",
   "language": "python",
   "name": "python3"
  },
  "language_info": {
   "codemirror_mode": {
    "name": "ipython",
    "version": 3
   },
   "file_extension": ".py",
   "mimetype": "text/x-python",
   "name": "python",
   "nbconvert_exporter": "python",
   "pygments_lexer": "ipython3",
   "version": "3.8.3"
  }
 },
 "nbformat": 4,
 "nbformat_minor": 4
}
