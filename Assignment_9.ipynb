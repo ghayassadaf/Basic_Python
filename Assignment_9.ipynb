{
 "cells": [
  {
   "cell_type": "markdown",
   "metadata": {},
   "source": [
    "# 1. To what does a relative path refer?\n",
    "\n",
    "### Ans - Relative path refers to the working / Default/current Directory where work file is stored."
   ]
  },
  {
   "cell_type": "markdown",
   "metadata": {},
   "source": [
    "# 2. What does an absolute path start with your operating system?\n",
    "\n",
    "### Ans - Actual path refers from the root directory of the file system to file name or directory.It starts with '/' directory."
   ]
  },
  {
   "cell_type": "markdown",
   "metadata": {},
   "source": [
    "# 3. What do the functions os.getcwd() and os.chdir() do?\n",
    "### Ans - os.getcwd() returns the current/default directory of current working file and \n",
    "###           os.chdir() makes other directory as current / default directory."
   ]
  },
  {
   "cell_type": "markdown",
   "metadata": {},
   "source": [
    "# 4. What are the . and .. folders?\n",
    "\n",
    "### Ans - . refers to current directory and .. refers to the parent directory . It is used in command prompt to write  ### the command line in easier way."
   ]
  },
  {
   "cell_type": "markdown",
   "metadata": {},
   "source": [
    "# 5. In C:\\bacon\\eggs\\spam.txt, which part is the dir name, and which part is the base name?\n",
    "### Ans - the file name base.txt is base name and starting from root directory to current directory is dir name i.e ###  C:\\bacon\\eggs\\"
   ]
  },
  {
   "cell_type": "markdown",
   "metadata": {},
   "source": [
    "# 6. What are the three “mode” arguments that can be passed to the open() function?\n",
    "### Ans - There are many modes which can be passed as argument like-\n",
    "###         1. r - to read file  and r+ to read and write both with pointer at beginning\n",
    "###          2. w - to write in file and W+ to read and write both but will not overwrite the data\n",
    "  ###        3. a - to append in a file and a+ to append and read the file.  etc"
   ]
  },
  {
   "cell_type": "markdown",
   "metadata": {},
   "source": [
    "# 7. What happens if an existing file is opened in write mode?\n",
    "\n",
    "### Ans - It will overwrite the data in existing file as pointer is placed at the beginning."
   ]
  },
  {
   "cell_type": "markdown",
   "metadata": {},
   "source": [
    "# 8. How do you tell the difference between read() and readlines()?\n",
    "\n",
    "### Ans - readlines() method will read all the data in file in one go and each lines will be returned in string in a series but read() will return the no. of  bytes in the file by default it is -1 means whole file."
   ]
  },
  {
   "cell_type": "markdown",
   "metadata": {},
   "source": [
    "# 9. What data structure does a shelf value resemble?\n",
    "\n",
    "### Ans - Shelf value resembles dictionary as it has keys and values also the same methods that a dictionary contains but in shelve, open() is used to access the keys or append the values and close it after any operation i.e store,retrieve & append."
   ]
  },
  {
   "cell_type": "markdown",
   "metadata": {},
   "source": [
    "# END"
   ]
  }
 ],
 "metadata": {
  "kernelspec": {
   "display_name": "Python 3",
   "language": "python",
   "name": "python3"
  },
  "language_info": {
   "codemirror_mode": {
    "name": "ipython",
    "version": 3
   },
   "file_extension": ".py",
   "mimetype": "text/x-python",
   "name": "python",
   "nbconvert_exporter": "python",
   "pygments_lexer": "ipython3",
   "version": "3.8.3"
  }
 },
 "nbformat": 4,
 "nbformat_minor": 4
}
