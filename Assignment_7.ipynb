{
 "cells": [
  {
   "cell_type": "markdown",
   "metadata": {},
   "source": [
    "# 1. What is the name of the feature responsible for generating Regex objects?\n",
    "Ans - The usage regex in python is supported by the module REG."
   ]
  },
  {
   "cell_type": "markdown",
   "metadata": {},
   "source": [
    "# 2. Why do raw strings often appear in Regex objects?\n",
    "\n",
    "Ans - Regex objects uses raw strings because In raw strings dont escape backlashes i.e '\\' \n",
    "while regular strings escape backlashes."
   ]
  },
  {
   "cell_type": "markdown",
   "metadata": {},
   "source": [
    "# 3. What is the return value of the search() method?\n",
    "Ans- Search method() returns the index/ position of the substring/pattern found in the string. It returns -1 if match is not found."
   ]
  },
  {
   "cell_type": "markdown",
   "metadata": {},
   "source": [
    "# 4. From a Match item, how do you get the actual strings that match the pattern?\n",
    "\n",
    "Ans - by group() method like below:"
   ]
  },
  {
   "cell_type": "code",
   "execution_count": 46,
   "metadata": {},
   "outputs": [
    {
     "data": {
      "text/plain": [
       "'word:get'"
      ]
     },
     "execution_count": 46,
     "metadata": {},
     "output_type": "execute_result"
    }
   ],
   "source": [
    "import re\n",
    "str = 'word:get'\n",
    "var = re.search(r'word:\\w+', str)\n",
    "var.group()"
   ]
  },
  {
   "cell_type": "markdown",
   "metadata": {},
   "source": [
    "# 5. In the regex which created from the r'(\\d\\d\\d)-(\\d\\d\\d-\\d\\d\\d\\d)', what does group zero cover?Group 2? Group 1?\n",
    "Ans - here \\d expression defines any single digit. So as per abpve regular expression ,\n",
    "     it is searching for XXX-XXX-XXXX where x value ranges from 0-9. "
   ]
  },
  {
   "cell_type": "code",
   "execution_count": 50,
   "metadata": {},
   "outputs": [
    {
     "data": {
      "text/plain": [
       "'123-456-7892'"
      ]
     },
     "execution_count": 50,
     "metadata": {},
     "output_type": "execute_result"
    }
   ],
   "source": [
    "test=re.search(r'(\\d\\d\\d)-(\\d\\d\\d-\\d\\d\\d\\d)','My no. is 123-456-7892')\n",
    "test.group()"
   ]
  },
  {
   "cell_type": "markdown",
   "metadata": {},
   "source": [
    "# 6. In standard expression syntax, parentheses and intervals have distinct meanings. How can you tell a regex that you want it to fit real parentheses and periods?\n",
    "\n",
    "Ans - periods and parentheses expression can be escaped by backlash to treat it as general period and parenthesis i.e \\(,\\)"
   ]
  },
  {
   "cell_type": "markdown",
   "metadata": {},
   "source": [
    "# 7. The findall() method returns a string list or a list of string tuples. What causes it to return one of the two options?\n",
    "Ans - findall method returns all the matched words with regular expression pattern given to search in the string.\n",
    "     that's why it gives the string list or list of string tuples as returns if found more than one.\n"
   ]
  },
  {
   "cell_type": "markdown",
   "metadata": {},
   "source": [
    "# 8. In standard expressions, what does the | character mean?\n",
    "Ans - It is like OR operator where whether any of the two value will be found then it will return that value found in string."
   ]
  },
  {
   "cell_type": "code",
   "execution_count": 57,
   "metadata": {},
   "outputs": [
    {
     "data": {
      "text/plain": [
       "'b'"
      ]
     },
     "execution_count": 57,
     "metadata": {},
     "output_type": "execute_result"
    }
   ],
   "source": [
    "test2=re.search('a|b','12b3c98')\n",
    "test2.group()"
   ]
  },
  {
   "cell_type": "markdown",
   "metadata": {},
   "source": [
    "# 9. In regular expressions, what does the character stand for?\n",
    "\n",
    "### Ans - A character stand for an expression like ^,$,.,? etc. A group of characters gives a regular expression which becomes a pattern of word to be searched in the string."
   ]
  },
  {
   "cell_type": "markdown",
   "metadata": {},
   "source": [
    "# 10.In regular expressions, what is the difference between the + and * characters?\n",
    "\n",
    "### Ans:     1. '+' character states to 1 or many repetition of the pattern in the left side of it.\n",
    " ###        example - if it's like r'a+' then it will search for the word either 'aa' or 'aaaaaa..' \n",
    "  ###      2. '*' character states to          0 or many repetition of the pattern in the left side of it.\n",
    "  ###       example - if it's like r'a*' then it will search for the word either 'a' or 'aaaaaa..'."
   ]
  },
  {
   "cell_type": "markdown",
   "metadata": {},
   "source": [
    "# 11. What is the difference between {4} and {4,5} in regular expression?"
   ]
  },
  {
   "cell_type": "markdown",
   "metadata": {},
   "source": [
    "### Ans- {4} defines the repetition of character 4 times i.e T{4} = TTTT\n",
    "###       {4,5}  defines the repetition of character 4 times i.e T{4} = TTTT or TTTTT"
   ]
  },
  {
   "cell_type": "markdown",
   "metadata": {},
   "source": [
    "# 12. What do you mean by the \\d, \\w, and \\s shorthand character classes signify in regular expressions?"
   ]
  },
  {
   "cell_type": "markdown",
   "metadata": {},
   "source": [
    "### Ans - \\d signifies the digits [0-9]\n",
    "###           \\w signifies the word character that includes alphabets,digit,underscore\n",
    "###           \\s signifies the whitespace character like tabs,space,newlines etc"
   ]
  },
  {
   "cell_type": "markdown",
   "metadata": {},
   "source": [
    "# 13. What do means by \\D, \\W, and \\S shorthand character classes signify in regular expressions?"
   ]
  },
  {
   "cell_type": "markdown",
   "metadata": {},
   "source": [
    "### Ans - \\D signifies anything except the digits [0-9]\n",
    "###           \\W signifies anything except the word character that includes alphabets,digit,underscore\n",
    "###           \\S signifies anything except the whitespace character like tabs,space,newlines etc"
   ]
  },
  {
   "cell_type": "markdown",
   "metadata": {},
   "source": [
    "# 14. What is the difference between .*? and .*?\n",
    "### .*? will not return blank as parser will not have anything to get a match because capturing group willcapture as many as possible from string .\n",
    "###  .* will return all the string till newline."
   ]
  },
  {
   "cell_type": "code",
   "execution_count": 38,
   "metadata": {},
   "outputs": [
    {
     "name": "stdout",
     "output_type": "stream",
     "text": [
      "<re.Match object; span=(0, 0), match=''>\n",
      "<re.Match object; span=(0, 6), match='abcdef'>\n"
     ]
    }
   ],
   "source": [
    "import re\n",
    "print(re.search(r'.*?','abcdef'))\n",
    "print(re.search(r'.*','abcdef'))"
   ]
  },
  {
   "cell_type": "markdown",
   "metadata": {},
   "source": [
    "# 15. What is the syntax for matching both numbers and lowercase letters with a character class?\n",
    "\n",
    "### Ans-  re.search([a-z0-9])"
   ]
  },
  {
   "cell_type": "markdown",
   "metadata": {},
   "source": [
    "# 16. What is the procedure for making a normal expression in regax case insensitive?\n",
    "\n",
    "### Ans- By using re.IGNORECASE FLAG  in search and match methods.\n",
    "###       re.search(r'\\w',string,flags=re.IGNORECASE)"
   ]
  },
  {
   "cell_type": "code",
   "execution_count": 58,
   "metadata": {},
   "outputs": [
    {
     "name": "stdout",
     "output_type": "stream",
     "text": [
      "<re.Match object; span=(0, 10), match='MR.XYZ PQR'>\n"
     ]
    }
   ],
   "source": [
    "print(re.search(r'(^mr\\.)(.*)$','MR.XYZ PQR',flags=re.IGNORECASE))"
   ]
  },
  {
   "cell_type": "markdown",
   "metadata": {},
   "source": [
    "# 17. What does the . character normally match? What does it match if re.DOTALL is passed as 2nd argument in re.compile()?\n",
    "\n",
    "### Ans - . character signifies any character except newline \\n. but if re.dotall is passed as argument then \\n is\n",
    " ###      accepted in as character in . character"
   ]
  },
  {
   "cell_type": "code",
   "execution_count": 67,
   "metadata": {},
   "outputs": [
    {
     "name": "stdout",
     "output_type": "stream",
     "text": [
      "['ABCDEF\\n123456', '']\n"
     ]
    }
   ],
   "source": [
    "pattern= re.compile(r'.*',re.DOTALL)\n",
    "print(pattern.findall('ABCDEF\\n123456'))"
   ]
  },
  {
   "cell_type": "markdown",
   "metadata": {},
   "source": [
    "# 18. If numReg = re.compile(r&#39;\\d+&#39;), what will numRegex.sub(&#39;X&#39;, &#39;11 drummers, 10 pipers, five rings, 4 hen') return?\n",
    "\n",
    "### Ans- re.sub is used to replace particular character/characters with the given value.\n",
    "###          So, numReg is an object of raw string and that raw string will be replaced by 'X' in the subject string."
   ]
  },
  {
   "cell_type": "code",
   "execution_count": 3,
   "metadata": {},
   "outputs": [
    {
     "data": {
      "text/plain": [
       "'X drummers, X pipers, five rings, X hen'"
      ]
     },
     "execution_count": 3,
     "metadata": {},
     "output_type": "execute_result"
    }
   ],
   "source": [
    "import re\n",
    "numReg = re.compile(r'\\d+')\n",
    "numReg.sub('X', '11 drummers, 10 pipers, five rings, 4 hen')"
   ]
  },
  {
   "cell_type": "markdown",
   "metadata": {},
   "source": [
    "# 19. What does passing re.VERBOSE as the 2nd argument to re.compile() allow to do?\n",
    "### Ans - By passing re.VERBOSE as second agrument , The logical section of apttern can be written separately like in separate line and also can add comment to each line with # followed by comment."
   ]
  },
  {
   "cell_type": "code",
   "execution_count": 7,
   "metadata": {},
   "outputs": [
    {
     "data": {
      "text/plain": [
       "['mr.xyz1234']"
      ]
     },
     "execution_count": 7,
     "metadata": {},
     "output_type": "execute_result"
    }
   ],
   "source": [
    "pattern1=re.compile(\"\"\"\n",
    "                     ^mr   #Initial\n",
    "                     \\.     #dot\n",
    "                     \\w+     #words\n",
    "                     \"\"\",re.VERBOSE|re.IGNORECASE)\n",
    "pattern1.findall('mr.xyz1234')"
   ]
  },
  {
   "cell_type": "markdown",
   "metadata": {},
   "source": [
    "# 20. How would you write a regex that match a number with comma for every three digits? It mus match the given following:\n",
    "####   '42'\n",
    "####  '1,234'\n",
    "####   '6,368,745'\n",
    "#### but not the following:\n",
    "####  '12,34,567' (which has only two digits between the commas)\n",
    "####  '1234' (which lacks commas)\n",
    "\n",
    "### Ans - re.fullmatch(r'((\\d)?(\\d)?(,\\d{3})*)"
   ]
  },
  {
   "cell_type": "code",
   "execution_count": 58,
   "metadata": {},
   "outputs": [
    {
     "name": "stdout",
     "output_type": "stream",
     "text": [
      "Match for 42 is  42\n",
      "Match for 1,234 is  1,234\n",
      "Match for 6,368,745 is  6,368,745\n",
      "Not matched for -  12,34,567\n",
      "Not matched for -  1234\n"
     ]
    }
   ],
   "source": [
    "for i in ['42','1,234','6,368,745','12,34,567','1234']:\n",
    "    val=(re.fullmatch(r'((\\d)?(\\d)?(,\\d{3})*)',i))\n",
    "    if val:\n",
    "        print(\"Match for\",i,'is ',val.group())\n",
    "    else:\n",
    "        print(\"Not matched for - \",i)"
   ]
  },
  {
   "cell_type": "markdown",
   "metadata": {},
   "source": [
    "# 21. How would you write a regex that matches the full name of someone whose last name is Watanabe? You can assume that the first name that comes before it will always be one word that begins with a capital letter. The regex must match the following:\n",
    "### 'Haruto Watanabe'\n",
    "### 'Alice Watanabe'\n",
    "### 'RoboCop Watanabe'\n",
    "### but not the following:\n",
    "### 'haruto Watanabe' (where the first name is not capitalized)\n",
    "### 'Mr. Watanabe' (where the preceding word has a nonletter character)\n",
    "### 'Watanabe' (which has no first name)\n",
    "### 'Haruto watanabe' (where Watanabe is not capitalized)\n",
    "\n",
    "### ANS - re.fullmatch(r'^(([A-Z][a-z]+[A-Z]?[a-z]+)?)( Watanabe)$',string)"
   ]
  },
  {
   "cell_type": "code",
   "execution_count": 66,
   "metadata": {},
   "outputs": [
    {
     "name": "stdout",
     "output_type": "stream",
     "text": [
      "Match for Haruto Watanabe is  Haruto Watanabe\n",
      "Match for Alice Watanabe is  Alice Watanabe\n",
      "Match for RoboCop Watanabe is  RoboCop Watanabe\n",
      "Not matched for -  haruto Watanabe\n",
      "Not matched for -  Mr. Watanabe\n",
      "Not matched for -  Watanabe\n",
      "Not matched for -  Haruto watanabe\n"
     ]
    }
   ],
   "source": [
    "for i in ['Haruto Watanabe','Alice Watanabe','RoboCop Watanabe','haruto Watanabe','Mr. Watanabe','Watanabe','Haruto watanabe']:\n",
    "    val=re.fullmatch(r'^(([A-Z][a-z]+[A-Z]?[a-z]+)?)( Watanabe)$',i)\n",
    "    if val:\n",
    "        print(\"Match for\",i,'is ',val.group())\n",
    "    else:\n",
    "        print(\"Not matched for - \",i)"
   ]
  },
  {
   "cell_type": "markdown",
   "metadata": {},
   "source": [
    "# 22. How would you write a regex that matches a sentence where the first word is either Alice, Bob, or Carol; the second word is either eats, pets, or throws; the third word is apples, cats, or baseballs; and the sentence ends with a period? This regex should be case-insensitive. It must match the following:\n",
    "### 'Alice eats apples.'\n",
    "### 'Bob pets cats.'\n",
    "### 'Carol throws baseballs.'\n",
    "### 'Alice throws Apples.'\n",
    "### 'BOB EATS CATS.'\n",
    "### but not the following:\n",
    "### 'RoboCop eats apples.'\n",
    "### 'ALICE THROWS FOOTBALLS.'\n",
    "### 'Carol eats 7 cats.'\n",
    "\n",
    "### Ans- re.fullmatch(r'^(Alice|Bob|Carol)\\s(eats|pets|throws)\\s(apples|cats|baseballs)\\.$',String)"
   ]
  },
  {
   "cell_type": "code",
   "execution_count": 84,
   "metadata": {},
   "outputs": [
    {
     "name": "stdout",
     "output_type": "stream",
     "text": [
      "Match for Alice eats apples. is  Alice eats apples.\n",
      "Match for Bob pets cats. is  Bob pets cats.\n",
      "Match for Carol throws baseballs. is  Carol throws baseballs.\n",
      "Match for BOB EATS CATS. is  BOB EATS CATS.\n",
      "Not matched for -  RoboCop eats apples.\n",
      "Not matched for -  ALICE THROWS FOOTBALLS.\n",
      "Not matched for -  Carol eats 7 cats.\n"
     ]
    }
   ],
   "source": [
    "for i in ['Alice eats apples.','Bob pets cats.','Carol throws baseballs.','BOB EATS CATS.','RoboCop eats apples.','ALICE THROWS FOOTBALLS.','Carol eats 7 cats.']:\n",
    "    val=re.fullmatch(r'^(Alice|Bob|Carol)\\s(eats|pets|throws)\\s(apples|cats|baseballs)\\.$',i,re.IGNORECASE)\n",
    "    if val:\n",
    "        print(\"Match for\",i,'is ',val.group())\n",
    "    else:\n",
    "        print(\"Not matched for - \",i)"
   ]
  },
  {
   "cell_type": "markdown",
   "metadata": {},
   "source": [
    "# END"
   ]
  },
  {
   "cell_type": "code",
   "execution_count": null,
   "metadata": {},
   "outputs": [],
   "source": []
  }
 ],
 "metadata": {
  "kernelspec": {
   "display_name": "Python 3",
   "language": "python",
   "name": "python3"
  },
  "language_info": {
   "codemirror_mode": {
    "name": "ipython",
    "version": 3
   },
   "file_extension": ".py",
   "mimetype": "text/x-python",
   "name": "python",
   "nbconvert_exporter": "python",
   "pygments_lexer": "ipython3",
   "version": "3.8.3"
  }
 },
 "nbformat": 4,
 "nbformat_minor": 4
}
