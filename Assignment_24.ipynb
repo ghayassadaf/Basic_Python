{
 "cells": [
  {
   "cell_type": "markdown",
   "metadata": {},
   "source": [
    "# 1. What is the relationship between def statements and lambda expressions ?"
   ]
  },
  {
   "cell_type": "markdown",
   "metadata": {},
   "source": [
    "# Ans -\n",
    "#### Def statement is to created a well defined functions with the easier or complex script or statements written wihtin it's block \n",
    "\n",
    "#### but\n",
    "\n",
    "#### lambda expression is also used to create function but the script is written in expression So it cant have complex function likewise in User defined functions."
   ]
  },
  {
   "cell_type": "markdown",
   "metadata": {},
   "source": [
    "# 2. What is the benefit of lambda?"
   ]
  },
  {
   "cell_type": "markdown",
   "metadata": {},
   "source": [
    "# Ans \n",
    "### Lambda is used to create small functions which doesn't need many statements to do complex operations So lambda is kinf of most easiest and shortcut of creating small functions in a line of code"
   ]
  },
  {
   "cell_type": "markdown",
   "metadata": {},
   "source": [
    "# 3. Compare and contrast map, filter, and reduce."
   ]
  },
  {
   "cell_type": "markdown",
   "metadata": {},
   "source": [
    "# Ans\n",
    "#### map() function is used to map series of values to a function wherein every value in iterable objects can be passed to function and in return it will give series of returned values as iterable object like input object.\n"
   ]
  },
  {
   "cell_type": "code",
   "execution_count": 12,
   "metadata": {},
   "outputs": [
    {
     "data": {
      "text/plain": [
       "[1, 4, 9, 16]"
      ]
     },
     "execution_count": 12,
     "metadata": {},
     "output_type": "execute_result"
    }
   ],
   "source": [
    "def sqr(a):\n",
    "    return a*a\n",
    "x=map(sqr,[1,2,3,4])\n",
    "list(x)"
   ]
  },
  {
   "cell_type": "markdown",
   "metadata": {},
   "source": [
    "#### filter() function is used to map series of values to a function wherein every value in iterable objects can be passed to function which returns boolean values and in return it will give series of returned boolean values which is TRUE in Output as iterable object like input object.\n"
   ]
  },
  {
   "cell_type": "code",
   "execution_count": 14,
   "metadata": {},
   "outputs": [
    {
     "data": {
      "text/plain": [
       "[1, 3]"
      ]
     },
     "execution_count": 14,
     "metadata": {},
     "output_type": "execute_result"
    }
   ],
   "source": [
    "def check(a):\n",
    "    return a>0\n",
    "x=filter(check,[1,-2,3,-4])\n",
    "list(x)"
   ]
  },
  {
   "cell_type": "code",
   "execution_count": 11,
   "metadata": {},
   "outputs": [
    {
     "data": {
      "text/plain": [
       "[1, 3]"
      ]
     },
     "execution_count": 11,
     "metadata": {},
     "output_type": "execute_result"
    }
   ],
   "source": [
    "#### reduce() function is used to map series of values to a function wherein every value in iterable objects can be passed to function which returns single cummulative value and at the end, the iterable values after going through a func of some arithmatic calculation, gives a sinle cummulative value or it reduces the input iterable object to a single value on the account arithmatic formulas applied on it.\n"
   ]
  },
  {
   "cell_type": "code",
   "execution_count": 17,
   "metadata": {},
   "outputs": [
    {
     "data": {
      "text/plain": [
       "-2"
      ]
     },
     "execution_count": 17,
     "metadata": {},
     "output_type": "execute_result"
    }
   ],
   "source": [
    "from functools import reduce\n",
    "def sum_(a,b):\n",
    "    return a+b\n",
    "x=reduce(sum_,[1,-2,3,-4])\n",
    "x"
   ]
  },
  {
   "cell_type": "markdown",
   "metadata": {},
   "source": [
    "# 4. What are function annotations, and how are they used?"
   ]
  },
  {
   "cell_type": "markdown",
   "metadata": {},
   "source": [
    "# Ans \n",
    "#### Function annotation is used to access metadata to the arguments and return values of function and also used for messages related to the function i.e string based annotation.\n",
    "#### It is used to check the type of parameter and return values, which is defined at the time of function definition.\n",
    "#### There are 3 types of function annotation 1. simple parameter 2. excess parameter 3. nested parameter"
   ]
  },
  {
   "cell_type": "markdown",
   "metadata": {},
   "source": [
    "# This is used in below way:"
   ]
  },
  {
   "cell_type": "code",
   "execution_count": 22,
   "metadata": {},
   "outputs": [
    {
     "name": "stdout",
     "output_type": "stream",
     "text": [
      "{'a': 'int', 'c': 'Argument2', 'b': 'float', 'return': 'float'}\n"
     ]
    }
   ],
   "source": [
    "def just(a:'int',c:'Argument2',b:'float'=2.50)->'float':\n",
    "    return a*b*c\n",
    "print(just.__annotations__)"
   ]
  },
  {
   "cell_type": "markdown",
   "metadata": {},
   "source": [
    "# 5. What are recursive functions, and how are they used?"
   ]
  },
  {
   "cell_type": "markdown",
   "metadata": {},
   "source": [
    "# Ans\n",
    "#### Recursive fuunction is the function that calls itself while execution.\n",
    "\n",
    "#### it's used in the case where same operation of a function is needed to reach the result.\n",
    "#### for example:"
   ]
  },
  {
   "cell_type": "code",
   "execution_count": 26,
   "metadata": {},
   "outputs": [
    {
     "name": "stdout",
     "output_type": "stream",
     "text": [
      "10 + 10 = 20\n",
      "10 + 20 = 30\n",
      "20 + 30 = 50\n"
     ]
    }
   ],
   "source": [
    "def fib(a,b):\n",
    "    if b<50:\n",
    "        print(a,'+',b,'=',a+b)\n",
    "        fib(b,a+b)\n",
    "    else:\n",
    "        return 0\n",
    "fib(10,10)  "
   ]
  },
  {
   "cell_type": "markdown",
   "metadata": {},
   "source": [
    "# 6. What are some general design guidelines for coding functions?"
   ]
  },
  {
   "cell_type": "markdown",
   "metadata": {},
   "source": [
    "# The General guidelines for coding functions are:\n",
    "\n"
   ]
  },
  {
   "cell_type": "markdown",
   "metadata": {},
   "source": [
    "#### Using 4 space identation and no tabs # Aligned with opening delimiter.\n"
   ]
  },
  {
   "cell_type": "code",
   "execution_count": null,
   "metadata": {},
   "outputs": [],
   "source": [
    "def_func(argument1, argument2,\n",
    "              argument3, argument4)"
   ]
  },
  {
   "cell_type": "markdown",
   "metadata": {},
   "source": [
    "# Use docstrings : \n",
    "#### for single line's comment, use '#' i,e #_comment\n",
    "#### for Multi line's comment, use triple quotes i.e \"\"\"_Comment_\"\"\""
   ]
  },
  {
   "cell_type": "markdown",
   "metadata": {},
   "source": [
    "# use Wrap method to not exceed one line of code to 79 characters"
   ]
  },
  {
   "cell_type": "code",
   "execution_count": null,
   "metadata": {},
   "outputs": [],
   "source": [
    "with open('xyz.txt','W+') as file1, \\\n",
    "     open('abc.txt','W+') as file2:\n",
    "    file1.read()"
   ]
  },
  {
   "cell_type": "markdown",
   "metadata": {},
   "source": [
    "# use comment to help understanding the line of code "
   ]
  },
  {
   "cell_type": "code",
   "execution_count": null,
   "metadata": {},
   "outputs": [],
   "source": [
    "val=a+b         # Adding values"
   ]
  },
  {
   "cell_type": "markdown",
   "metadata": {},
   "source": [
    "# Use of trailing commas in case of tuple"
   ]
  },
  {
   "cell_type": "code",
   "execution_count": null,
   "metadata": {},
   "outputs": [],
   "source": [
    "z=('xyz',)"
   ]
  },
  {
   "cell_type": "markdown",
   "metadata": {},
   "source": [
    "# Use Python’s default UTF-8 or ASCII encodings"
   ]
  },
  {
   "cell_type": "code",
   "execution_count": null,
   "metadata": {},
   "outputs": [],
   "source": []
  },
  {
   "cell_type": "markdown",
   "metadata": {},
   "source": [
    "# Use space after operators and commas"
   ]
  },
  {
   "cell_type": "code",
   "execution_count": null,
   "metadata": {},
   "outputs": [],
   "source": [
    "a, b = sum(a + b), sum(c + d)"
   ]
  },
  {
   "cell_type": "markdown",
   "metadata": {},
   "source": [
    "# 3 characters should not be used for identifiers "
   ]
  },
  {
   "cell_type": "markdown",
   "metadata": {},
   "source": [
    "#### 1. 'l'-  small 'L' word\n",
    "#### 2. 'O'-  capital 'O' word\n",
    "#### 1. 'I'-  capital 'I' word\n",
    "### as these words are identical to 1 and 0 numbers\n",
    "\n"
   ]
  },
  {
   "cell_type": "markdown",
   "metadata": {},
   "source": [
    "# Never use non-ASCII characters in identifiers"
   ]
  },
  {
   "cell_type": "markdown",
   "metadata": {},
   "source": [
    "# Name of class should be camelcase i.e class TeamPlayer"
   ]
  },
  {
   "cell_type": "markdown",
   "metadata": {},
   "source": [
    "# Naming of function in methods of class must have name in lowercase or lowercasewith underscore"
   ]
  },
  {
   "cell_type": "markdown",
   "metadata": {},
   "source": [
    "# Self - must be the first argument in function of class"
   ]
  },
  {
   "cell_type": "markdown",
   "metadata": {},
   "source": [
    "# 7. Name three or more ways that functions can communicate results to a caller."
   ]
  },
  {
   "cell_type": "markdown",
   "metadata": {},
   "source": [
    "# Ans \n",
    "#### functions can communicate results in below three ways:\n",
    "\n",
    "#### 1. by return statment , which gives value back where function was called by passign arguments.\n",
    "\n",
    "\n",
    "#### 2 . By changing/muting values of mutable obkects like list, dictionary with the help pf passing reference of new object of mutable arguments.\n",
    "\n",
    "\n",
    "#### 3. By changing/setting Global variable's value - A function can  bring chnage in value set prior to the function call by altering the same global variable value wihtin the function."
   ]
  },
  {
   "cell_type": "markdown",
   "metadata": {},
   "source": [
    "# END"
   ]
  }
 ],
 "metadata": {
  "kernelspec": {
   "display_name": "Python 3",
   "language": "python",
   "name": "python3"
  },
  "language_info": {
   "codemirror_mode": {
    "name": "ipython",
    "version": 3
   },
   "file_extension": ".py",
   "mimetype": "text/x-python",
   "name": "python",
   "nbconvert_exporter": "python",
   "pygments_lexer": "ipython3",
   "version": "3.8.3"
  }
 },
 "nbformat": 4,
 "nbformat_minor": 4
}
